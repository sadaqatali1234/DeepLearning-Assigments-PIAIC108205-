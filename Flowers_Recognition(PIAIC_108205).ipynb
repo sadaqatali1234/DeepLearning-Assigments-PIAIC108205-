{
  "nbformat": 4,
  "nbformat_minor": 0,
  "metadata": {
    "colab": {
      "name": "Flowers_Recognition(PIAIC_108205).ipynb",
      "private_outputs": true,
      "provenance": [],
      "include_colab_link": true
    },
    "kernelspec": {
      "name": "python3",
      "display_name": "Python 3"
    },
    "accelerator": "GPU"
  },
  "cells": [
    {
      "cell_type": "markdown",
      "metadata": {
        "id": "view-in-github",
        "colab_type": "text"
      },
      "source": [
        "<a href=\"https://colab.research.google.com/github/sadaqatali1234/DeepLearning-Assigments-PIAIC108205-/blob/master/Flowers_Recognition(PIAIC_108205).ipynb\" target=\"_parent\"><img src=\"https://colab.research.google.com/assets/colab-badge.svg\" alt=\"Open In Colab\"/></a>"
      ]
    },
    {
      "cell_type": "markdown",
      "metadata": {
        "id": "BXgJ6uT1NydQ"
      },
      "source": [
        "Assignment: Flowers Recognition <br>\n",
        "Dataset Description:<br>\n",
        "\n",
        "This dataset contains 4242 images of flowers.<br>\n",
        "The data collection is based on the data flicr, google images, yandex images.<br>\n",
        "You can use this datastet to recognize plants from the photo.<br>\n",
        "\n",
        "Attribute Information:<br>\n",
        "The pictures are divided into five classes: chamomile, tulip, rose, sunflower, dandelion.<br>\n",
        "For each class there are about 800 photos. Photos are not high resolution, about 320x240 pixels. <br>\n",
        "<b>Also explore how to resize images in tensorflow and then resize all the images to a same size. </b> <br>\n",
        "This is a Multiclass Classification Problem.<br>\n",
        "\n",
        "\n"
      ]
    },
    {
      "cell_type": "markdown",
      "metadata": {
        "id": "T7vy-ktuOKJH"
      },
      "source": [
        "WORKFLOW : <br>\n",
        "Load Data <br>\n",
        "Split into 60 and 40 ratio.<br>\n",
        "Encode labels.<br>\n",
        "Create Model<br>\n",
        "Compilation Step (Note : Its a Multiclass Classification problem , select loss , metrics according to it)<br>\n",
        "Train the Model.<br>\n",
        "If the model gets overfit tune your model by changing the units , No. of layers , epochs , add dropout layer or add Regularizer according to the need .<br>\n",
        "Prediction should be > 85%<br>\n",
        "Evaluation Step<br>\n",
        "Prediction<br>\n",
        "\n",
        "\n"
      ]
    },
    {
      "cell_type": "markdown",
      "metadata": {
        "id": "ri3Bg5qfPRic"
      },
      "source": [
        "Data : <br>\n",
        "https://drive.google.com/file/d/1-OX6wn5gA-bJpjPNfSyaYQLz-A-AB_uj/view?usp=sharing"
      ]
    },
    {
      "cell_type": "code",
      "metadata": {
        "id": "hTtg3WuGTA1o"
      },
      "source": [
        "import matplotlib.pyplot as plt\n",
        "import numpy as np\n",
        "import cv2\n",
        "import pandas as pd\n",
        "import pathlib\n",
        "from pathlib import Path"
      ],
      "execution_count": null,
      "outputs": []
    },
    {
      "cell_type": "code",
      "metadata": {
        "id": "nMx-7wNuHBQu"
      },
      "source": [
        "from google.colab import drive\n",
        "drive.mount(\"/content/drive\")"
      ],
      "execution_count": null,
      "outputs": []
    },
    {
      "cell_type": "code",
      "metadata": {
        "id": "BcgVpzDLPtAb"
      },
      "source": [
        "# Loading Data And Defining Features And Labels\n",
        "directory = Path(\"/content/drive/MyDrive/flowers/flowers\")\n",
        "\n",
        "image_names = []\n",
        "data_images = []\n",
        "labels = []\n",
        "\n",
        "# Iterating Over Directory To Extract Sub Directories\n",
        "for dir in directory.iterdir():\n",
        "  image_names.append(dir.name)\n",
        "  print(dir.name)\n",
        "# Iterating Over Sub Directories To Extract Lables\n",
        "  for imgpath in dir.iterdir():\n",
        "    if imgpath.name.endswith(\"jpg\"):\n",
        "      labels.append(dir.name)\n",
        "      imgarr = cv2.imread(str(imgpath), cv2.IMREAD_GRAYSCALE)\n",
        "      imgarr = cv2.resize(imgarr, (320,240))\n",
        "      data_images.append(imgarr)"
      ],
      "execution_count": null,
      "outputs": []
    },
    {
      "cell_type": "code",
      "metadata": {
        "id": "Bq5M5N3OyIpo"
      },
      "source": [
        "# maping the string label into numeric \n",
        "df=pd.DataFrame(labels)\n",
        "labels=df[0].map({\"rose\":0,\"sunflower\":1,\"tulip\":2,\"daisy\":3,\"dandelion\":4})\n"
      ],
      "execution_count": null,
      "outputs": []
    },
    {
      "cell_type": "code",
      "metadata": {
        "id": "PVCjHSU4H1yP"
      },
      "source": [
        "# data and label spliting by machine learning libarary\n",
        "import sklearn\n",
        "from sklearn.model_selection import train_test_split\n",
        "X_train,X_test,y_train,y_test=train_test_split(data_images,labels,test_size=.40,random_state=0)"
      ],
      "execution_count": null,
      "outputs": []
    },
    {
      "cell_type": "code",
      "metadata": {
        "id": "mDomXtB4yp8N"
      },
      "source": [
        "#convert data into numpy array and data type float\n",
        "X_train=np.asarray(X_train).astype(\"float32\")\n",
        "X_test=np.asarray(X_test).astype(\"float32\")\n",
        "\n"
      ],
      "execution_count": null,
      "outputs": []
    },
    {
      "cell_type": "code",
      "metadata": {
        "id": "Y5oX13lcyuzM"
      },
      "source": [
        "\n",
        "# Check the shape of training data,testing data,training labels,testing labels\n",
        "print(f\"shape of training data is :{X_train.shape}\\nshape of training label is :{y_train.shape}\\nshape of testing data is :{X_test.shape}\\nshape of testing label is :{y_test.shape}\")"
      ],
      "execution_count": null,
      "outputs": []
    },
    {
      "cell_type": "code",
      "metadata": {
        "id": "5h0E4IDjiHu7"
      },
      "source": [
        "#reshaping\n",
        "X_train=X_train.reshape(2593,320*240)\n",
        "X_test=X_test.reshape(1730,320*240)\n",
        "\n"
      ],
      "execution_count": null,
      "outputs": []
    },
    {
      "cell_type": "code",
      "metadata": {
        "id": "_QgNXLxOOL3L"
      },
      "source": [
        "#check value of train data\n",
        "X_train[0]"
      ],
      "execution_count": null,
      "outputs": []
    },
    {
      "cell_type": "code",
      "metadata": {
        "id": "jo5n5Ih_O8tq"
      },
      "source": [
        "#check value of test data\n",
        "X_test[0]"
      ],
      "execution_count": null,
      "outputs": []
    },
    {
      "cell_type": "code",
      "metadata": {
        "id": "DMHVsmI-yxxA"
      },
      "source": [
        "#normalize the data\n",
        "X_train=X_train/255.0\n",
        "X_test=X_test/255.0"
      ],
      "execution_count": null,
      "outputs": []
    },
    {
      "cell_type": "code",
      "metadata": {
        "id": "ZJo3XdvZy7lX"
      },
      "source": [
        " from keras.utils import to_categorical\n",
        " y_train=to_categorical(y_train)\n",
        " y_test=to_categorical(y_test)"
      ],
      "execution_count": null,
      "outputs": []
    },
    {
      "cell_type": "code",
      "metadata": {
        "id": "cLM9_nHbzGsB"
      },
      "source": [
        "# importing keras libararies\n",
        "from tensorflow.keras.models import Sequential\n",
        "from tensorflow.keras.layers import Dense, Dropout\n",
        "from keras.optimizers import Adam, RMSprop"
      ],
      "execution_count": null,
      "outputs": []
    },
    {
      "cell_type": "code",
      "metadata": {
        "id": "HtihsfANQZkq"
      },
      "source": [
        "#model building\n",
        "network=Sequential()\n",
        "network.add(Dense(256,activation=\"relu\",input_shape=(X_train.shape[1],)))\n",
        "network.add(Dropout(0.2))\n",
        "network.add(Dense(128,activation=\"relu\"))\n",
        "#network.add(Dropout(0.2))\n",
        "network.add(Dense(64,activation=\"relu\"))\n",
        "network.add(Dropout(0.2))\n",
        "network.add(Dense(5,activation=\"softmax\"))"
      ],
      "execution_count": null,
      "outputs": []
    },
    {
      "cell_type": "code",
      "metadata": {
        "id": "haSeIl3ARoxH"
      },
      "source": [
        "#model summary\n",
        "network.summary()"
      ],
      "execution_count": null,
      "outputs": []
    },
    {
      "cell_type": "code",
      "metadata": {
        "id": "8OhgQuFyGcl4"
      },
      "source": [
        "# Compilation Step\n",
        "network.compile(optimizer=RMSprop(0.0001), loss = 'categorical_crossentropy', metrics = ['accuracy'])"
      ],
      "execution_count": null,
      "outputs": []
    },
    {
      "cell_type": "code",
      "metadata": {
        "id": "Z6W7Sh-2SVbE"
      },
      "source": [
        "\n",
        "history=network.fit(X_train, y_train,batch_size=20,epochs=100)"
      ],
      "execution_count": null,
      "outputs": []
    },
    {
      "cell_type": "code",
      "metadata": {
        "id": "IB12EblmSVvQ"
      },
      "source": [
        "history_dict = history.history\n",
        "history_dict.keys()\n",
        "[u'accuracy', u'loss']"
      ],
      "execution_count": null,
      "outputs": []
    },
    {
      "cell_type": "code",
      "metadata": {
        "id": "OI-pV845zMyp"
      },
      "source": [
        "import matplotlib.pyplot as plt\n",
        "history_dict = history.history\n",
        "loss_values = history_dict['loss']\n",
        "val_accuracy = history_dict['accuracy']\n",
        "epochs = range(1, len(history_dict['accuracy']) + 1)\n",
        "plt.plot(epochs, loss_values, 'r', label='loss')\n",
        "plt.plot(epochs, val_accuracy, 'b', label='accuracy')\n",
        "plt.title('loss and accuracy')\n",
        "plt.xlabel('Epochs')\n",
        "plt.ylabel('Loss')\n",
        "plt.legend()\n",
        "plt.grid()\n",
        "plt.show()"
      ],
      "execution_count": null,
      "outputs": []
    },
    {
      "cell_type": "code",
      "metadata": {
        "id": "8tdmwvlezbLI"
      },
      "source": [
        "network.evaluate(X_test,y_test)"
      ],
      "execution_count": null,
      "outputs": []
    },
    {
      "cell_type": "code",
      "metadata": {
        "id": "VdOw1dZRSF2H"
      },
      "source": [
        "pred = network.predict_classes(X_test[:10])\n",
        "for i in range(len(pred)):\n",
        "    print(pred[i],'==>',y_test[i])"
      ],
      "execution_count": null,
      "outputs": []
    }
  ]
}