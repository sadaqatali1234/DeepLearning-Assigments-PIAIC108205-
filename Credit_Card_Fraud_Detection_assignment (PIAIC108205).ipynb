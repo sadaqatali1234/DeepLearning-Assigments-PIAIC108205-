{
  "nbformat": 4,
  "nbformat_minor": 0,
  "metadata": {
    "kernelspec": {
      "display_name": "Python 3",
      "language": "python",
      "name": "python3"
    },
    "language_info": {
      "codemirror_mode": {
        "name": "ipython",
        "version": 3
      },
      "file_extension": ".py",
      "mimetype": "text/x-python",
      "name": "python",
      "nbconvert_exporter": "python",
      "pygments_lexer": "ipython3",
      "version": "3.7.6"
    },
    "colab": {
      "name": "Credit Card Fraud Detection assignment.ipynb",
      "provenance": [],
      "include_colab_link": true
    }
  },
  "cells": [
    {
      "cell_type": "markdown",
      "metadata": {
        "id": "view-in-github",
        "colab_type": "text"
      },
      "source": [
        "<a href=\"https://colab.research.google.com/github/sadaqatali1234/Deep-learning-assigments/blob/main/Credit_Card_Fraud_Detection_assignment.ipynb\" target=\"_parent\"><img src=\"https://colab.research.google.com/assets/colab-badge.svg\" alt=\"Open In Colab\"/></a>"
      ]
    },
    {
      "cell_type": "markdown",
      "metadata": {
        "id": "FFlUTV4Iv-Fl"
      },
      "source": [
        "# Credit Card Fraud Detection::"
      ]
    },
    {
      "cell_type": "markdown",
      "metadata": {
        "id": "aJzTDnXhv-F6"
      },
      "source": [
        "Download dataset from this link:\n",
        "\n",
        "https://www.kaggle.com/mlg-ulb/creditcardfraud"
      ]
    },
    {
      "cell_type": "markdown",
      "metadata": {
        "id": "EM63eylFv-F7"
      },
      "source": [
        "# Description about dataset::"
      ]
    },
    {
      "cell_type": "markdown",
      "metadata": {
        "id": "t0Vy86hVv-F8"
      },
      "source": [
        "The datasets contains transactions made by credit cards in September 2013 by european cardholders.\n",
        "This dataset presents transactions that occurred in two days, where we have 492 frauds out of 284,807 transactions. The dataset is highly unbalanced, the positive class (frauds) account for 0.172% of all transactions.\n",
        "\n",
        "It contains only numerical input variables which are the result of a PCA transformation. Unfortunately, due to confidentiality issues, we cannot provide the original features and more background information about the data. Features V1, V2, … V28 are the principal components obtained with PCA, the only features which have not been transformed with PCA are 'Time' and 'Amount'. Feature 'Time' contains the seconds elapsed between each transaction and the first transaction in the dataset. The feature 'Amount' is the transaction Amount, this feature can be used for example-dependant cost-senstive learning. \n",
        "\n",
        "\n",
        "### Feature 'Class' is the response variable and it takes value 1 in case of fraud and 0 otherwise."
      ]
    },
    {
      "cell_type": "markdown",
      "metadata": {
        "id": "uS7zzeavv-F9"
      },
      "source": [
        "# WORKFLOW :"
      ]
    },
    {
      "cell_type": "markdown",
      "metadata": {
        "id": "qwczwc37v-F-"
      },
      "source": [
        "1.Load Data\n",
        "\n",
        "2.Check Missing Values ( If Exist ; Fill each record with mean of its feature )\n",
        "\n",
        "3.Standardized the Input Variables. \n",
        "\n",
        "4.Split into 50% Training(Samples,Labels) , 30% Test(Samples,Labels) and 20% Validation Data(Samples,Labels).\n",
        "\n",
        "5.Model : input Layer (No. of features ), 3 hidden layers including 10,8,6 unit & Output Layer with activation function relu/tanh (check by experiment).\n",
        "\n",
        "6.Compilation Step (Note : Its a Binary problem , select loss , metrics according to it)\n",
        "\n",
        "7.Train the Model with Epochs (100).\n",
        "\n",
        "8.If the model gets overfit tune your model by changing the units , No. of layers , epochs , add dropout layer or add Regularizer according to the need .\n",
        "\n",
        "9.Prediction should be > 92%\n",
        "10.Evaluation Step\n",
        "11Prediction\n"
      ]
    },
    {
      "cell_type": "markdown",
      "metadata": {
        "id": "vJaZTTV3v-F-"
      },
      "source": [
        "# Task::"
      ]
    },
    {
      "cell_type": "markdown",
      "metadata": {
        "id": "FFaH7GaPv-F_"
      },
      "source": [
        "## Identify fraudulent credit card transactions."
      ]
    },
    {
      "cell_type": "code",
      "metadata": {
        "id": "qJBVP0ffv-GA"
      },
      "source": [
        "# importing libaraies\n",
        "import numpy as np\n",
        "import pandas as pd\n",
        "import matplotlib.pyplot as plt\n"
      ],
      "execution_count": 1,
      "outputs": []
    },
    {
      "cell_type": "code",
      "metadata": {
        "colab": {
          "base_uri": "https://localhost:8080/"
        },
        "id": "4lit_0X_v-GB",
        "outputId": "66ba3ab9-274b-41ce-ea3f-7c26919e7dce"
      },
      "source": [
        "# drive mounting with google drive\n",
        "from google.colab import drive\n",
        "drive.mount('/content/gdrive')"
      ],
      "execution_count": 2,
      "outputs": [
        {
          "output_type": "stream",
          "text": [
            "Drive already mounted at /content/gdrive; to attempt to forcibly remount, call drive.mount(\"/content/gdrive\", force_remount=True).\n"
          ],
          "name": "stdout"
        }
      ]
    },
    {
      "cell_type": "code",
      "metadata": {
        "colab": {
          "base_uri": "https://localhost:8080/",
          "height": 224
        },
        "id": "fEyVB1aZv-GB",
        "outputId": "7816609a-d007-495d-b93d-ded6b0e5659e"
      },
      "source": [
        "# data loading and reading\n",
        "card=pd.read_csv(\"/content/gdrive/MyDrive/creditcard.csv\")\n",
        "card.head()"
      ],
      "execution_count": 3,
      "outputs": [
        {
          "output_type": "execute_result",
          "data": {
            "text/html": [
              "<div>\n",
              "<style scoped>\n",
              "    .dataframe tbody tr th:only-of-type {\n",
              "        vertical-align: middle;\n",
              "    }\n",
              "\n",
              "    .dataframe tbody tr th {\n",
              "        vertical-align: top;\n",
              "    }\n",
              "\n",
              "    .dataframe thead th {\n",
              "        text-align: right;\n",
              "    }\n",
              "</style>\n",
              "<table border=\"1\" class=\"dataframe\">\n",
              "  <thead>\n",
              "    <tr style=\"text-align: right;\">\n",
              "      <th></th>\n",
              "      <th>Time</th>\n",
              "      <th>V1</th>\n",
              "      <th>V2</th>\n",
              "      <th>V3</th>\n",
              "      <th>V4</th>\n",
              "      <th>V5</th>\n",
              "      <th>V6</th>\n",
              "      <th>V7</th>\n",
              "      <th>V8</th>\n",
              "      <th>V9</th>\n",
              "      <th>V10</th>\n",
              "      <th>V11</th>\n",
              "      <th>V12</th>\n",
              "      <th>V13</th>\n",
              "      <th>V14</th>\n",
              "      <th>V15</th>\n",
              "      <th>V16</th>\n",
              "      <th>V17</th>\n",
              "      <th>V18</th>\n",
              "      <th>V19</th>\n",
              "      <th>V20</th>\n",
              "      <th>V21</th>\n",
              "      <th>V22</th>\n",
              "      <th>V23</th>\n",
              "      <th>V24</th>\n",
              "      <th>V25</th>\n",
              "      <th>V26</th>\n",
              "      <th>V27</th>\n",
              "      <th>V28</th>\n",
              "      <th>Amount</th>\n",
              "      <th>Class</th>\n",
              "    </tr>\n",
              "  </thead>\n",
              "  <tbody>\n",
              "    <tr>\n",
              "      <th>0</th>\n",
              "      <td>0.0</td>\n",
              "      <td>-1.359807</td>\n",
              "      <td>-0.072781</td>\n",
              "      <td>2.536347</td>\n",
              "      <td>1.378155</td>\n",
              "      <td>-0.338321</td>\n",
              "      <td>0.462388</td>\n",
              "      <td>0.239599</td>\n",
              "      <td>0.098698</td>\n",
              "      <td>0.363787</td>\n",
              "      <td>0.090794</td>\n",
              "      <td>-0.551600</td>\n",
              "      <td>-0.617801</td>\n",
              "      <td>-0.991390</td>\n",
              "      <td>-0.311169</td>\n",
              "      <td>1.468177</td>\n",
              "      <td>-0.470401</td>\n",
              "      <td>0.207971</td>\n",
              "      <td>0.025791</td>\n",
              "      <td>0.403993</td>\n",
              "      <td>0.251412</td>\n",
              "      <td>-0.018307</td>\n",
              "      <td>0.277838</td>\n",
              "      <td>-0.110474</td>\n",
              "      <td>0.066928</td>\n",
              "      <td>0.128539</td>\n",
              "      <td>-0.189115</td>\n",
              "      <td>0.133558</td>\n",
              "      <td>-0.021053</td>\n",
              "      <td>149.62</td>\n",
              "      <td>0</td>\n",
              "    </tr>\n",
              "    <tr>\n",
              "      <th>1</th>\n",
              "      <td>0.0</td>\n",
              "      <td>1.191857</td>\n",
              "      <td>0.266151</td>\n",
              "      <td>0.166480</td>\n",
              "      <td>0.448154</td>\n",
              "      <td>0.060018</td>\n",
              "      <td>-0.082361</td>\n",
              "      <td>-0.078803</td>\n",
              "      <td>0.085102</td>\n",
              "      <td>-0.255425</td>\n",
              "      <td>-0.166974</td>\n",
              "      <td>1.612727</td>\n",
              "      <td>1.065235</td>\n",
              "      <td>0.489095</td>\n",
              "      <td>-0.143772</td>\n",
              "      <td>0.635558</td>\n",
              "      <td>0.463917</td>\n",
              "      <td>-0.114805</td>\n",
              "      <td>-0.183361</td>\n",
              "      <td>-0.145783</td>\n",
              "      <td>-0.069083</td>\n",
              "      <td>-0.225775</td>\n",
              "      <td>-0.638672</td>\n",
              "      <td>0.101288</td>\n",
              "      <td>-0.339846</td>\n",
              "      <td>0.167170</td>\n",
              "      <td>0.125895</td>\n",
              "      <td>-0.008983</td>\n",
              "      <td>0.014724</td>\n",
              "      <td>2.69</td>\n",
              "      <td>0</td>\n",
              "    </tr>\n",
              "    <tr>\n",
              "      <th>2</th>\n",
              "      <td>1.0</td>\n",
              "      <td>-1.358354</td>\n",
              "      <td>-1.340163</td>\n",
              "      <td>1.773209</td>\n",
              "      <td>0.379780</td>\n",
              "      <td>-0.503198</td>\n",
              "      <td>1.800499</td>\n",
              "      <td>0.791461</td>\n",
              "      <td>0.247676</td>\n",
              "      <td>-1.514654</td>\n",
              "      <td>0.207643</td>\n",
              "      <td>0.624501</td>\n",
              "      <td>0.066084</td>\n",
              "      <td>0.717293</td>\n",
              "      <td>-0.165946</td>\n",
              "      <td>2.345865</td>\n",
              "      <td>-2.890083</td>\n",
              "      <td>1.109969</td>\n",
              "      <td>-0.121359</td>\n",
              "      <td>-2.261857</td>\n",
              "      <td>0.524980</td>\n",
              "      <td>0.247998</td>\n",
              "      <td>0.771679</td>\n",
              "      <td>0.909412</td>\n",
              "      <td>-0.689281</td>\n",
              "      <td>-0.327642</td>\n",
              "      <td>-0.139097</td>\n",
              "      <td>-0.055353</td>\n",
              "      <td>-0.059752</td>\n",
              "      <td>378.66</td>\n",
              "      <td>0</td>\n",
              "    </tr>\n",
              "    <tr>\n",
              "      <th>3</th>\n",
              "      <td>1.0</td>\n",
              "      <td>-0.966272</td>\n",
              "      <td>-0.185226</td>\n",
              "      <td>1.792993</td>\n",
              "      <td>-0.863291</td>\n",
              "      <td>-0.010309</td>\n",
              "      <td>1.247203</td>\n",
              "      <td>0.237609</td>\n",
              "      <td>0.377436</td>\n",
              "      <td>-1.387024</td>\n",
              "      <td>-0.054952</td>\n",
              "      <td>-0.226487</td>\n",
              "      <td>0.178228</td>\n",
              "      <td>0.507757</td>\n",
              "      <td>-0.287924</td>\n",
              "      <td>-0.631418</td>\n",
              "      <td>-1.059647</td>\n",
              "      <td>-0.684093</td>\n",
              "      <td>1.965775</td>\n",
              "      <td>-1.232622</td>\n",
              "      <td>-0.208038</td>\n",
              "      <td>-0.108300</td>\n",
              "      <td>0.005274</td>\n",
              "      <td>-0.190321</td>\n",
              "      <td>-1.175575</td>\n",
              "      <td>0.647376</td>\n",
              "      <td>-0.221929</td>\n",
              "      <td>0.062723</td>\n",
              "      <td>0.061458</td>\n",
              "      <td>123.50</td>\n",
              "      <td>0</td>\n",
              "    </tr>\n",
              "    <tr>\n",
              "      <th>4</th>\n",
              "      <td>2.0</td>\n",
              "      <td>-1.158233</td>\n",
              "      <td>0.877737</td>\n",
              "      <td>1.548718</td>\n",
              "      <td>0.403034</td>\n",
              "      <td>-0.407193</td>\n",
              "      <td>0.095921</td>\n",
              "      <td>0.592941</td>\n",
              "      <td>-0.270533</td>\n",
              "      <td>0.817739</td>\n",
              "      <td>0.753074</td>\n",
              "      <td>-0.822843</td>\n",
              "      <td>0.538196</td>\n",
              "      <td>1.345852</td>\n",
              "      <td>-1.119670</td>\n",
              "      <td>0.175121</td>\n",
              "      <td>-0.451449</td>\n",
              "      <td>-0.237033</td>\n",
              "      <td>-0.038195</td>\n",
              "      <td>0.803487</td>\n",
              "      <td>0.408542</td>\n",
              "      <td>-0.009431</td>\n",
              "      <td>0.798278</td>\n",
              "      <td>-0.137458</td>\n",
              "      <td>0.141267</td>\n",
              "      <td>-0.206010</td>\n",
              "      <td>0.502292</td>\n",
              "      <td>0.219422</td>\n",
              "      <td>0.215153</td>\n",
              "      <td>69.99</td>\n",
              "      <td>0</td>\n",
              "    </tr>\n",
              "  </tbody>\n",
              "</table>\n",
              "</div>"
            ],
            "text/plain": [
              "   Time        V1        V2        V3  ...       V27       V28  Amount  Class\n",
              "0   0.0 -1.359807 -0.072781  2.536347  ...  0.133558 -0.021053  149.62      0\n",
              "1   0.0  1.191857  0.266151  0.166480  ... -0.008983  0.014724    2.69      0\n",
              "2   1.0 -1.358354 -1.340163  1.773209  ... -0.055353 -0.059752  378.66      0\n",
              "3   1.0 -0.966272 -0.185226  1.792993  ...  0.062723  0.061458  123.50      0\n",
              "4   2.0 -1.158233  0.877737  1.548718  ...  0.219422  0.215153   69.99      0\n",
              "\n",
              "[5 rows x 31 columns]"
            ]
          },
          "metadata": {
            "tags": []
          },
          "execution_count": 3
        }
      ]
    },
    {
      "cell_type": "code",
      "metadata": {
        "colab": {
          "base_uri": "https://localhost:8080/",
          "height": 317
        },
        "id": "p6Lodo5jv-GB",
        "outputId": "2fc663f8-7ddb-4fed-b626-93cc1e9269f2"
      },
      "source": [
        "# statistcal description of dataframe\n",
        "card.describe()"
      ],
      "execution_count": 4,
      "outputs": [
        {
          "output_type": "execute_result",
          "data": {
            "text/html": [
              "<div>\n",
              "<style scoped>\n",
              "    .dataframe tbody tr th:only-of-type {\n",
              "        vertical-align: middle;\n",
              "    }\n",
              "\n",
              "    .dataframe tbody tr th {\n",
              "        vertical-align: top;\n",
              "    }\n",
              "\n",
              "    .dataframe thead th {\n",
              "        text-align: right;\n",
              "    }\n",
              "</style>\n",
              "<table border=\"1\" class=\"dataframe\">\n",
              "  <thead>\n",
              "    <tr style=\"text-align: right;\">\n",
              "      <th></th>\n",
              "      <th>Time</th>\n",
              "      <th>V1</th>\n",
              "      <th>V2</th>\n",
              "      <th>V3</th>\n",
              "      <th>V4</th>\n",
              "      <th>V5</th>\n",
              "      <th>V6</th>\n",
              "      <th>V7</th>\n",
              "      <th>V8</th>\n",
              "      <th>V9</th>\n",
              "      <th>V10</th>\n",
              "      <th>V11</th>\n",
              "      <th>V12</th>\n",
              "      <th>V13</th>\n",
              "      <th>V14</th>\n",
              "      <th>V15</th>\n",
              "      <th>V16</th>\n",
              "      <th>V17</th>\n",
              "      <th>V18</th>\n",
              "      <th>V19</th>\n",
              "      <th>V20</th>\n",
              "      <th>V21</th>\n",
              "      <th>V22</th>\n",
              "      <th>V23</th>\n",
              "      <th>V24</th>\n",
              "      <th>V25</th>\n",
              "      <th>V26</th>\n",
              "      <th>V27</th>\n",
              "      <th>V28</th>\n",
              "      <th>Amount</th>\n",
              "      <th>Class</th>\n",
              "    </tr>\n",
              "  </thead>\n",
              "  <tbody>\n",
              "    <tr>\n",
              "      <th>count</th>\n",
              "      <td>284807.000000</td>\n",
              "      <td>2.848070e+05</td>\n",
              "      <td>2.848070e+05</td>\n",
              "      <td>2.848070e+05</td>\n",
              "      <td>2.848070e+05</td>\n",
              "      <td>2.848070e+05</td>\n",
              "      <td>2.848070e+05</td>\n",
              "      <td>2.848070e+05</td>\n",
              "      <td>2.848070e+05</td>\n",
              "      <td>2.848070e+05</td>\n",
              "      <td>2.848070e+05</td>\n",
              "      <td>2.848070e+05</td>\n",
              "      <td>2.848070e+05</td>\n",
              "      <td>2.848070e+05</td>\n",
              "      <td>2.848070e+05</td>\n",
              "      <td>2.848070e+05</td>\n",
              "      <td>2.848070e+05</td>\n",
              "      <td>2.848070e+05</td>\n",
              "      <td>2.848070e+05</td>\n",
              "      <td>2.848070e+05</td>\n",
              "      <td>2.848070e+05</td>\n",
              "      <td>2.848070e+05</td>\n",
              "      <td>2.848070e+05</td>\n",
              "      <td>2.848070e+05</td>\n",
              "      <td>2.848070e+05</td>\n",
              "      <td>2.848070e+05</td>\n",
              "      <td>2.848070e+05</td>\n",
              "      <td>2.848070e+05</td>\n",
              "      <td>2.848070e+05</td>\n",
              "      <td>284807.000000</td>\n",
              "      <td>284807.000000</td>\n",
              "    </tr>\n",
              "    <tr>\n",
              "      <th>mean</th>\n",
              "      <td>94813.859575</td>\n",
              "      <td>3.919560e-15</td>\n",
              "      <td>5.688174e-16</td>\n",
              "      <td>-8.769071e-15</td>\n",
              "      <td>2.782312e-15</td>\n",
              "      <td>-1.552563e-15</td>\n",
              "      <td>2.010663e-15</td>\n",
              "      <td>-1.694249e-15</td>\n",
              "      <td>-1.927028e-16</td>\n",
              "      <td>-3.137024e-15</td>\n",
              "      <td>1.768627e-15</td>\n",
              "      <td>9.170318e-16</td>\n",
              "      <td>-1.810658e-15</td>\n",
              "      <td>1.693438e-15</td>\n",
              "      <td>1.479045e-15</td>\n",
              "      <td>3.482336e-15</td>\n",
              "      <td>1.392007e-15</td>\n",
              "      <td>-7.528491e-16</td>\n",
              "      <td>4.328772e-16</td>\n",
              "      <td>9.049732e-16</td>\n",
              "      <td>5.085503e-16</td>\n",
              "      <td>1.537294e-16</td>\n",
              "      <td>7.959909e-16</td>\n",
              "      <td>5.367590e-16</td>\n",
              "      <td>4.458112e-15</td>\n",
              "      <td>1.453003e-15</td>\n",
              "      <td>1.699104e-15</td>\n",
              "      <td>-3.660161e-16</td>\n",
              "      <td>-1.206049e-16</td>\n",
              "      <td>88.349619</td>\n",
              "      <td>0.001727</td>\n",
              "    </tr>\n",
              "    <tr>\n",
              "      <th>std</th>\n",
              "      <td>47488.145955</td>\n",
              "      <td>1.958696e+00</td>\n",
              "      <td>1.651309e+00</td>\n",
              "      <td>1.516255e+00</td>\n",
              "      <td>1.415869e+00</td>\n",
              "      <td>1.380247e+00</td>\n",
              "      <td>1.332271e+00</td>\n",
              "      <td>1.237094e+00</td>\n",
              "      <td>1.194353e+00</td>\n",
              "      <td>1.098632e+00</td>\n",
              "      <td>1.088850e+00</td>\n",
              "      <td>1.020713e+00</td>\n",
              "      <td>9.992014e-01</td>\n",
              "      <td>9.952742e-01</td>\n",
              "      <td>9.585956e-01</td>\n",
              "      <td>9.153160e-01</td>\n",
              "      <td>8.762529e-01</td>\n",
              "      <td>8.493371e-01</td>\n",
              "      <td>8.381762e-01</td>\n",
              "      <td>8.140405e-01</td>\n",
              "      <td>7.709250e-01</td>\n",
              "      <td>7.345240e-01</td>\n",
              "      <td>7.257016e-01</td>\n",
              "      <td>6.244603e-01</td>\n",
              "      <td>6.056471e-01</td>\n",
              "      <td>5.212781e-01</td>\n",
              "      <td>4.822270e-01</td>\n",
              "      <td>4.036325e-01</td>\n",
              "      <td>3.300833e-01</td>\n",
              "      <td>250.120109</td>\n",
              "      <td>0.041527</td>\n",
              "    </tr>\n",
              "    <tr>\n",
              "      <th>min</th>\n",
              "      <td>0.000000</td>\n",
              "      <td>-5.640751e+01</td>\n",
              "      <td>-7.271573e+01</td>\n",
              "      <td>-4.832559e+01</td>\n",
              "      <td>-5.683171e+00</td>\n",
              "      <td>-1.137433e+02</td>\n",
              "      <td>-2.616051e+01</td>\n",
              "      <td>-4.355724e+01</td>\n",
              "      <td>-7.321672e+01</td>\n",
              "      <td>-1.343407e+01</td>\n",
              "      <td>-2.458826e+01</td>\n",
              "      <td>-4.797473e+00</td>\n",
              "      <td>-1.868371e+01</td>\n",
              "      <td>-5.791881e+00</td>\n",
              "      <td>-1.921433e+01</td>\n",
              "      <td>-4.498945e+00</td>\n",
              "      <td>-1.412985e+01</td>\n",
              "      <td>-2.516280e+01</td>\n",
              "      <td>-9.498746e+00</td>\n",
              "      <td>-7.213527e+00</td>\n",
              "      <td>-5.449772e+01</td>\n",
              "      <td>-3.483038e+01</td>\n",
              "      <td>-1.093314e+01</td>\n",
              "      <td>-4.480774e+01</td>\n",
              "      <td>-2.836627e+00</td>\n",
              "      <td>-1.029540e+01</td>\n",
              "      <td>-2.604551e+00</td>\n",
              "      <td>-2.256568e+01</td>\n",
              "      <td>-1.543008e+01</td>\n",
              "      <td>0.000000</td>\n",
              "      <td>0.000000</td>\n",
              "    </tr>\n",
              "    <tr>\n",
              "      <th>25%</th>\n",
              "      <td>54201.500000</td>\n",
              "      <td>-9.203734e-01</td>\n",
              "      <td>-5.985499e-01</td>\n",
              "      <td>-8.903648e-01</td>\n",
              "      <td>-8.486401e-01</td>\n",
              "      <td>-6.915971e-01</td>\n",
              "      <td>-7.682956e-01</td>\n",
              "      <td>-5.540759e-01</td>\n",
              "      <td>-2.086297e-01</td>\n",
              "      <td>-6.430976e-01</td>\n",
              "      <td>-5.354257e-01</td>\n",
              "      <td>-7.624942e-01</td>\n",
              "      <td>-4.055715e-01</td>\n",
              "      <td>-6.485393e-01</td>\n",
              "      <td>-4.255740e-01</td>\n",
              "      <td>-5.828843e-01</td>\n",
              "      <td>-4.680368e-01</td>\n",
              "      <td>-4.837483e-01</td>\n",
              "      <td>-4.988498e-01</td>\n",
              "      <td>-4.562989e-01</td>\n",
              "      <td>-2.117214e-01</td>\n",
              "      <td>-2.283949e-01</td>\n",
              "      <td>-5.423504e-01</td>\n",
              "      <td>-1.618463e-01</td>\n",
              "      <td>-3.545861e-01</td>\n",
              "      <td>-3.171451e-01</td>\n",
              "      <td>-3.269839e-01</td>\n",
              "      <td>-7.083953e-02</td>\n",
              "      <td>-5.295979e-02</td>\n",
              "      <td>5.600000</td>\n",
              "      <td>0.000000</td>\n",
              "    </tr>\n",
              "    <tr>\n",
              "      <th>50%</th>\n",
              "      <td>84692.000000</td>\n",
              "      <td>1.810880e-02</td>\n",
              "      <td>6.548556e-02</td>\n",
              "      <td>1.798463e-01</td>\n",
              "      <td>-1.984653e-02</td>\n",
              "      <td>-5.433583e-02</td>\n",
              "      <td>-2.741871e-01</td>\n",
              "      <td>4.010308e-02</td>\n",
              "      <td>2.235804e-02</td>\n",
              "      <td>-5.142873e-02</td>\n",
              "      <td>-9.291738e-02</td>\n",
              "      <td>-3.275735e-02</td>\n",
              "      <td>1.400326e-01</td>\n",
              "      <td>-1.356806e-02</td>\n",
              "      <td>5.060132e-02</td>\n",
              "      <td>4.807155e-02</td>\n",
              "      <td>6.641332e-02</td>\n",
              "      <td>-6.567575e-02</td>\n",
              "      <td>-3.636312e-03</td>\n",
              "      <td>3.734823e-03</td>\n",
              "      <td>-6.248109e-02</td>\n",
              "      <td>-2.945017e-02</td>\n",
              "      <td>6.781943e-03</td>\n",
              "      <td>-1.119293e-02</td>\n",
              "      <td>4.097606e-02</td>\n",
              "      <td>1.659350e-02</td>\n",
              "      <td>-5.213911e-02</td>\n",
              "      <td>1.342146e-03</td>\n",
              "      <td>1.124383e-02</td>\n",
              "      <td>22.000000</td>\n",
              "      <td>0.000000</td>\n",
              "    </tr>\n",
              "    <tr>\n",
              "      <th>75%</th>\n",
              "      <td>139320.500000</td>\n",
              "      <td>1.315642e+00</td>\n",
              "      <td>8.037239e-01</td>\n",
              "      <td>1.027196e+00</td>\n",
              "      <td>7.433413e-01</td>\n",
              "      <td>6.119264e-01</td>\n",
              "      <td>3.985649e-01</td>\n",
              "      <td>5.704361e-01</td>\n",
              "      <td>3.273459e-01</td>\n",
              "      <td>5.971390e-01</td>\n",
              "      <td>4.539234e-01</td>\n",
              "      <td>7.395934e-01</td>\n",
              "      <td>6.182380e-01</td>\n",
              "      <td>6.625050e-01</td>\n",
              "      <td>4.931498e-01</td>\n",
              "      <td>6.488208e-01</td>\n",
              "      <td>5.232963e-01</td>\n",
              "      <td>3.996750e-01</td>\n",
              "      <td>5.008067e-01</td>\n",
              "      <td>4.589494e-01</td>\n",
              "      <td>1.330408e-01</td>\n",
              "      <td>1.863772e-01</td>\n",
              "      <td>5.285536e-01</td>\n",
              "      <td>1.476421e-01</td>\n",
              "      <td>4.395266e-01</td>\n",
              "      <td>3.507156e-01</td>\n",
              "      <td>2.409522e-01</td>\n",
              "      <td>9.104512e-02</td>\n",
              "      <td>7.827995e-02</td>\n",
              "      <td>77.165000</td>\n",
              "      <td>0.000000</td>\n",
              "    </tr>\n",
              "    <tr>\n",
              "      <th>max</th>\n",
              "      <td>172792.000000</td>\n",
              "      <td>2.454930e+00</td>\n",
              "      <td>2.205773e+01</td>\n",
              "      <td>9.382558e+00</td>\n",
              "      <td>1.687534e+01</td>\n",
              "      <td>3.480167e+01</td>\n",
              "      <td>7.330163e+01</td>\n",
              "      <td>1.205895e+02</td>\n",
              "      <td>2.000721e+01</td>\n",
              "      <td>1.559499e+01</td>\n",
              "      <td>2.374514e+01</td>\n",
              "      <td>1.201891e+01</td>\n",
              "      <td>7.848392e+00</td>\n",
              "      <td>7.126883e+00</td>\n",
              "      <td>1.052677e+01</td>\n",
              "      <td>8.877742e+00</td>\n",
              "      <td>1.731511e+01</td>\n",
              "      <td>9.253526e+00</td>\n",
              "      <td>5.041069e+00</td>\n",
              "      <td>5.591971e+00</td>\n",
              "      <td>3.942090e+01</td>\n",
              "      <td>2.720284e+01</td>\n",
              "      <td>1.050309e+01</td>\n",
              "      <td>2.252841e+01</td>\n",
              "      <td>4.584549e+00</td>\n",
              "      <td>7.519589e+00</td>\n",
              "      <td>3.517346e+00</td>\n",
              "      <td>3.161220e+01</td>\n",
              "      <td>3.384781e+01</td>\n",
              "      <td>25691.160000</td>\n",
              "      <td>1.000000</td>\n",
              "    </tr>\n",
              "  </tbody>\n",
              "</table>\n",
              "</div>"
            ],
            "text/plain": [
              "                Time            V1  ...         Amount          Class\n",
              "count  284807.000000  2.848070e+05  ...  284807.000000  284807.000000\n",
              "mean    94813.859575  3.919560e-15  ...      88.349619       0.001727\n",
              "std     47488.145955  1.958696e+00  ...     250.120109       0.041527\n",
              "min         0.000000 -5.640751e+01  ...       0.000000       0.000000\n",
              "25%     54201.500000 -9.203734e-01  ...       5.600000       0.000000\n",
              "50%     84692.000000  1.810880e-02  ...      22.000000       0.000000\n",
              "75%    139320.500000  1.315642e+00  ...      77.165000       0.000000\n",
              "max    172792.000000  2.454930e+00  ...   25691.160000       1.000000\n",
              "\n",
              "[8 rows x 31 columns]"
            ]
          },
          "metadata": {
            "tags": []
          },
          "execution_count": 4
        }
      ]
    },
    {
      "cell_type": "code",
      "metadata": {
        "colab": {
          "base_uri": "https://localhost:8080/"
        },
        "id": "nbP8wxKMv-GC",
        "outputId": "b0b386ba-80b1-4b16-eeb6-d991b21c3f63"
      },
      "source": [
        "# shape of dataframe\n",
        "card.shape"
      ],
      "execution_count": 5,
      "outputs": [
        {
          "output_type": "execute_result",
          "data": {
            "text/plain": [
              "(284807, 31)"
            ]
          },
          "metadata": {
            "tags": []
          },
          "execution_count": 5
        }
      ]
    },
    {
      "cell_type": "code",
      "metadata": {
        "colab": {
          "base_uri": "https://localhost:8080/"
        },
        "id": "A09fyncEv-GC",
        "outputId": "23b6b74f-8faa-4078-f93d-1b42e73e38fb"
      },
      "source": [
        "# columns name of dataframe\n",
        "card.columns"
      ],
      "execution_count": 6,
      "outputs": [
        {
          "output_type": "execute_result",
          "data": {
            "text/plain": [
              "Index(['Time', 'V1', 'V2', 'V3', 'V4', 'V5', 'V6', 'V7', 'V8', 'V9', 'V10',\n",
              "       'V11', 'V12', 'V13', 'V14', 'V15', 'V16', 'V17', 'V18', 'V19', 'V20',\n",
              "       'V21', 'V22', 'V23', 'V24', 'V25', 'V26', 'V27', 'V28', 'Amount',\n",
              "       'Class'],\n",
              "      dtype='object')"
            ]
          },
          "metadata": {
            "tags": []
          },
          "execution_count": 6
        }
      ]
    },
    {
      "cell_type": "code",
      "metadata": {
        "colab": {
          "base_uri": "https://localhost:8080/"
        },
        "id": "cGQTFOn8becJ",
        "outputId": "8026f366-82ab-41de-8b78-1c425f9a636e"
      },
      "source": [
        "card.isna().sum()"
      ],
      "execution_count": 7,
      "outputs": [
        {
          "output_type": "execute_result",
          "data": {
            "text/plain": [
              "Time      0\n",
              "V1        0\n",
              "V2        0\n",
              "V3        0\n",
              "V4        0\n",
              "V5        0\n",
              "V6        0\n",
              "V7        0\n",
              "V8        0\n",
              "V9        0\n",
              "V10       0\n",
              "V11       0\n",
              "V12       0\n",
              "V13       0\n",
              "V14       0\n",
              "V15       0\n",
              "V16       0\n",
              "V17       0\n",
              "V18       0\n",
              "V19       0\n",
              "V20       0\n",
              "V21       0\n",
              "V22       0\n",
              "V23       0\n",
              "V24       0\n",
              "V25       0\n",
              "V26       0\n",
              "V27       0\n",
              "V28       0\n",
              "Amount    0\n",
              "Class     0\n",
              "dtype: int64"
            ]
          },
          "metadata": {
            "tags": []
          },
          "execution_count": 7
        }
      ]
    },
    {
      "cell_type": "code",
      "metadata": {
        "colab": {
          "base_uri": "https://localhost:8080/"
        },
        "id": "JqknSUssv-GD",
        "outputId": "40794853-bdf0-46ee-a2e8-9679b3e8089f"
      },
      "source": [
        "# check null values of dataframe\n",
        "card.isnull().any()"
      ],
      "execution_count": 8,
      "outputs": [
        {
          "output_type": "execute_result",
          "data": {
            "text/plain": [
              "Time      False\n",
              "V1        False\n",
              "V2        False\n",
              "V3        False\n",
              "V4        False\n",
              "V5        False\n",
              "V6        False\n",
              "V7        False\n",
              "V8        False\n",
              "V9        False\n",
              "V10       False\n",
              "V11       False\n",
              "V12       False\n",
              "V13       False\n",
              "V14       False\n",
              "V15       False\n",
              "V16       False\n",
              "V17       False\n",
              "V18       False\n",
              "V19       False\n",
              "V20       False\n",
              "V21       False\n",
              "V22       False\n",
              "V23       False\n",
              "V24       False\n",
              "V25       False\n",
              "V26       False\n",
              "V27       False\n",
              "V28       False\n",
              "Amount    False\n",
              "Class     False\n",
              "dtype: bool"
            ]
          },
          "metadata": {
            "tags": []
          },
          "execution_count": 8
        }
      ]
    },
    {
      "cell_type": "code",
      "metadata": {
        "colab": {
          "base_uri": "https://localhost:8080/"
        },
        "id": "46i5Z4F4v-GD",
        "outputId": "8efe43f6-d3c1-4fd8-d9af-263a36974fad"
      },
      "source": [
        "# check duplicated values in dataframe\n",
        "card.duplicated().any()"
      ],
      "execution_count": 9,
      "outputs": [
        {
          "output_type": "execute_result",
          "data": {
            "text/plain": [
              "True"
            ]
          },
          "metadata": {
            "tags": []
          },
          "execution_count": 9
        }
      ]
    },
    {
      "cell_type": "code",
      "metadata": {
        "id": "MSiN5RDFv-GD"
      },
      "source": [
        "# drop duplicated values \n",
        "card.drop_duplicates(inplace=True)"
      ],
      "execution_count": 10,
      "outputs": []
    },
    {
      "cell_type": "code",
      "metadata": {
        "colab": {
          "base_uri": "https://localhost:8080/"
        },
        "id": "QFVVEg4Gv-GE",
        "outputId": "bdf08ad1-0610-4203-ea3b-b581afe55b16"
      },
      "source": [
        "# check duplicated values again\n",
        "card.duplicated().any()"
      ],
      "execution_count": 11,
      "outputs": [
        {
          "output_type": "execute_result",
          "data": {
            "text/plain": [
              "False"
            ]
          },
          "metadata": {
            "tags": []
          },
          "execution_count": 11
        }
      ]
    },
    {
      "cell_type": "code",
      "metadata": {
        "colab": {
          "base_uri": "https://localhost:8080/"
        },
        "id": "MeQ9WVPov-GE",
        "outputId": "b4afb9df-96d2-4b1d-d8c5-35e28d4a5b21"
      },
      "source": [
        "# check again dataframe shape\n",
        "card.shape"
      ],
      "execution_count": 12,
      "outputs": [
        {
          "output_type": "execute_result",
          "data": {
            "text/plain": [
              "(283726, 31)"
            ]
          },
          "metadata": {
            "tags": []
          },
          "execution_count": 12
        }
      ]
    },
    {
      "cell_type": "code",
      "metadata": {
        "id": "_Fa_N7PNv-GF"
      },
      "source": [
        "# dataframe spliting into Data(X) & label (Y)\n",
        "data=card.iloc[:,:30]\n",
        "label=card.iloc[:,-1]"
      ],
      "execution_count": 13,
      "outputs": []
    },
    {
      "cell_type": "code",
      "metadata": {
        "colab": {
          "base_uri": "https://localhost:8080/"
        },
        "id": "midxt-GxK327",
        "outputId": "52dd4062-1fd6-45bb-fd4a-ff11be7229a1"
      },
      "source": [
        "# shape of data \n",
        "print(f\"Shape of data is :{data.shape}\\nShape of label is :{label.shape}\")"
      ],
      "execution_count": 14,
      "outputs": [
        {
          "output_type": "stream",
          "text": [
            "Shape of data is :(283726, 30)\n",
            "Shape of label is :(283726,)\n"
          ],
          "name": "stdout"
        }
      ]
    },
    {
      "cell_type": "code",
      "metadata": {
        "id": "hiIRvOmQv-GF"
      },
      "source": [
        "import sklearn\n",
        "from sklearn.model_selection import train_test_split\n",
        "X_train,X_test,y_train,y_test=train_test_split(data,label,test_size=.30,random_state=1)"
      ],
      "execution_count": 15,
      "outputs": []
    },
    {
      "cell_type": "code",
      "metadata": {
        "id": "RB8nONKTv-GF",
        "colab": {
          "base_uri": "https://localhost:8080/"
        },
        "outputId": "129b263b-3bb0-4ed7-8a19-cfa40feaab05"
      },
      "source": [
        "# Check the shape of training data,testing data,training labels,testing labels\n",
        "print(f\"shape of training data is :{X_train.shape}\\nshape of training label is :{y_train.shape}\\nshape of testing data is :{X_test.shape}\\nshape of testing label is :{y_test.shape}\")"
      ],
      "execution_count": 16,
      "outputs": [
        {
          "output_type": "stream",
          "text": [
            "shape of training data is :(198608, 30)\n",
            "shape of training label is :(198608,)\n",
            "shape of testing data is :(85118, 30)\n",
            "shape of testing label is :(85118,)\n"
          ],
          "name": "stdout"
        }
      ]
    },
    {
      "cell_type": "code",
      "metadata": {
        "colab": {
          "base_uri": "https://localhost:8080/",
          "height": 439
        },
        "id": "6fq8kFwTVdZ7",
        "outputId": "e763d6ea-5730-4299-98cb-a721f23585d3"
      },
      "source": [
        "X_test"
      ],
      "execution_count": 17,
      "outputs": [
        {
          "output_type": "execute_result",
          "data": {
            "text/html": [
              "<div>\n",
              "<style scoped>\n",
              "    .dataframe tbody tr th:only-of-type {\n",
              "        vertical-align: middle;\n",
              "    }\n",
              "\n",
              "    .dataframe tbody tr th {\n",
              "        vertical-align: top;\n",
              "    }\n",
              "\n",
              "    .dataframe thead th {\n",
              "        text-align: right;\n",
              "    }\n",
              "</style>\n",
              "<table border=\"1\" class=\"dataframe\">\n",
              "  <thead>\n",
              "    <tr style=\"text-align: right;\">\n",
              "      <th></th>\n",
              "      <th>Time</th>\n",
              "      <th>V1</th>\n",
              "      <th>V2</th>\n",
              "      <th>V3</th>\n",
              "      <th>V4</th>\n",
              "      <th>V5</th>\n",
              "      <th>V6</th>\n",
              "      <th>V7</th>\n",
              "      <th>V8</th>\n",
              "      <th>V9</th>\n",
              "      <th>V10</th>\n",
              "      <th>V11</th>\n",
              "      <th>V12</th>\n",
              "      <th>V13</th>\n",
              "      <th>V14</th>\n",
              "      <th>V15</th>\n",
              "      <th>V16</th>\n",
              "      <th>V17</th>\n",
              "      <th>V18</th>\n",
              "      <th>V19</th>\n",
              "      <th>V20</th>\n",
              "      <th>V21</th>\n",
              "      <th>V22</th>\n",
              "      <th>V23</th>\n",
              "      <th>V24</th>\n",
              "      <th>V25</th>\n",
              "      <th>V26</th>\n",
              "      <th>V27</th>\n",
              "      <th>V28</th>\n",
              "      <th>Amount</th>\n",
              "    </tr>\n",
              "  </thead>\n",
              "  <tbody>\n",
              "    <tr>\n",
              "      <th>33560</th>\n",
              "      <td>37283.0</td>\n",
              "      <td>-1.071719</td>\n",
              "      <td>-4.343904</td>\n",
              "      <td>-0.497727</td>\n",
              "      <td>-0.277591</td>\n",
              "      <td>-2.482346</td>\n",
              "      <td>-0.472073</td>\n",
              "      <td>0.991747</td>\n",
              "      <td>-0.414207</td>\n",
              "      <td>1.694252</td>\n",
              "      <td>-1.744176</td>\n",
              "      <td>-0.270013</td>\n",
              "      <td>1.145865</td>\n",
              "      <td>0.962904</td>\n",
              "      <td>-0.096612</td>\n",
              "      <td>1.407733</td>\n",
              "      <td>-0.294159</td>\n",
              "      <td>-0.082378</td>\n",
              "      <td>0.358518</td>\n",
              "      <td>0.284341</td>\n",
              "      <td>2.433118</td>\n",
              "      <td>0.856441</td>\n",
              "      <td>0.013647</td>\n",
              "      <td>-1.183439</td>\n",
              "      <td>0.536058</td>\n",
              "      <td>0.064148</td>\n",
              "      <td>-0.016945</td>\n",
              "      <td>-0.179133</td>\n",
              "      <td>0.236036</td>\n",
              "      <td>1217.00</td>\n",
              "    </tr>\n",
              "    <tr>\n",
              "      <th>57869</th>\n",
              "      <td>48115.0</td>\n",
              "      <td>1.314915</td>\n",
              "      <td>-0.980378</td>\n",
              "      <td>-0.032665</td>\n",
              "      <td>-2.770975</td>\n",
              "      <td>-1.047365</td>\n",
              "      <td>-0.705180</td>\n",
              "      <td>-0.491240</td>\n",
              "      <td>-0.076395</td>\n",
              "      <td>0.571959</td>\n",
              "      <td>-0.673573</td>\n",
              "      <td>1.537107</td>\n",
              "      <td>1.705658</td>\n",
              "      <td>0.460655</td>\n",
              "      <td>0.237690</td>\n",
              "      <td>0.578064</td>\n",
              "      <td>-2.936531</td>\n",
              "      <td>0.484655</td>\n",
              "      <td>1.091294</td>\n",
              "      <td>0.529313</td>\n",
              "      <td>-0.475477</td>\n",
              "      <td>-0.416346</td>\n",
              "      <td>-0.481886</td>\n",
              "      <td>-0.009117</td>\n",
              "      <td>0.009622</td>\n",
              "      <td>0.555844</td>\n",
              "      <td>-0.836622</td>\n",
              "      <td>0.099256</td>\n",
              "      <td>0.014826</td>\n",
              "      <td>26.31</td>\n",
              "    </tr>\n",
              "    <tr>\n",
              "      <th>187479</th>\n",
              "      <td>127554.0</td>\n",
              "      <td>-1.680526</td>\n",
              "      <td>-0.959150</td>\n",
              "      <td>-1.329705</td>\n",
              "      <td>-1.028361</td>\n",
              "      <td>-0.730922</td>\n",
              "      <td>0.253124</td>\n",
              "      <td>3.308312</td>\n",
              "      <td>-0.480062</td>\n",
              "      <td>0.157630</td>\n",
              "      <td>-2.012017</td>\n",
              "      <td>0.446700</td>\n",
              "      <td>0.299910</td>\n",
              "      <td>-0.376217</td>\n",
              "      <td>-1.451170</td>\n",
              "      <td>-1.833658</td>\n",
              "      <td>0.995288</td>\n",
              "      <td>-0.008342</td>\n",
              "      <td>0.811514</td>\n",
              "      <td>-0.795379</td>\n",
              "      <td>-0.030472</td>\n",
              "      <td>-0.084593</td>\n",
              "      <td>-0.204108</td>\n",
              "      <td>0.517400</td>\n",
              "      <td>-0.611013</td>\n",
              "      <td>-0.445912</td>\n",
              "      <td>-0.409744</td>\n",
              "      <td>0.231809</td>\n",
              "      <td>0.253554</td>\n",
              "      <td>680.91</td>\n",
              "    </tr>\n",
              "    <tr>\n",
              "      <th>243555</th>\n",
              "      <td>151975.0</td>\n",
              "      <td>2.114488</td>\n",
              "      <td>0.169976</td>\n",
              "      <td>-2.051966</td>\n",
              "      <td>0.070326</td>\n",
              "      <td>0.481642</td>\n",
              "      <td>-1.819440</td>\n",
              "      <td>0.886700</td>\n",
              "      <td>-0.673729</td>\n",
              "      <td>0.077960</td>\n",
              "      <td>-0.006214</td>\n",
              "      <td>-0.474817</td>\n",
              "      <td>0.697163</td>\n",
              "      <td>0.715022</td>\n",
              "      <td>0.655563</td>\n",
              "      <td>0.281635</td>\n",
              "      <td>-0.686316</td>\n",
              "      <td>-0.293587</td>\n",
              "      <td>-0.651840</td>\n",
              "      <td>0.092144</td>\n",
              "      <td>-0.174444</td>\n",
              "      <td>0.163748</td>\n",
              "      <td>0.642597</td>\n",
              "      <td>-0.058720</td>\n",
              "      <td>0.128632</td>\n",
              "      <td>0.461792</td>\n",
              "      <td>0.234073</td>\n",
              "      <td>-0.082360</td>\n",
              "      <td>-0.075323</td>\n",
              "      <td>12.92</td>\n",
              "    </tr>\n",
              "    <tr>\n",
              "      <th>96229</th>\n",
              "      <td>65675.0</td>\n",
              "      <td>-5.277692</td>\n",
              "      <td>3.487837</td>\n",
              "      <td>-1.201844</td>\n",
              "      <td>-0.192904</td>\n",
              "      <td>-0.158582</td>\n",
              "      <td>0.949549</td>\n",
              "      <td>0.467901</td>\n",
              "      <td>-0.788434</td>\n",
              "      <td>4.652615</td>\n",
              "      <td>7.407039</td>\n",
              "      <td>0.281109</td>\n",
              "      <td>-1.476121</td>\n",
              "      <td>-3.354760</td>\n",
              "      <td>-1.337504</td>\n",
              "      <td>1.010125</td>\n",
              "      <td>-0.712907</td>\n",
              "      <td>-0.650421</td>\n",
              "      <td>0.255434</td>\n",
              "      <td>0.820374</td>\n",
              "      <td>2.080629</td>\n",
              "      <td>-0.477313</td>\n",
              "      <td>-1.077669</td>\n",
              "      <td>0.160074</td>\n",
              "      <td>-1.535126</td>\n",
              "      <td>0.873245</td>\n",
              "      <td>-0.322503</td>\n",
              "      <td>1.383375</td>\n",
              "      <td>0.758996</td>\n",
              "      <td>28.90</td>\n",
              "    </tr>\n",
              "    <tr>\n",
              "      <th>...</th>\n",
              "      <td>...</td>\n",
              "      <td>...</td>\n",
              "      <td>...</td>\n",
              "      <td>...</td>\n",
              "      <td>...</td>\n",
              "      <td>...</td>\n",
              "      <td>...</td>\n",
              "      <td>...</td>\n",
              "      <td>...</td>\n",
              "      <td>...</td>\n",
              "      <td>...</td>\n",
              "      <td>...</td>\n",
              "      <td>...</td>\n",
              "      <td>...</td>\n",
              "      <td>...</td>\n",
              "      <td>...</td>\n",
              "      <td>...</td>\n",
              "      <td>...</td>\n",
              "      <td>...</td>\n",
              "      <td>...</td>\n",
              "      <td>...</td>\n",
              "      <td>...</td>\n",
              "      <td>...</td>\n",
              "      <td>...</td>\n",
              "      <td>...</td>\n",
              "      <td>...</td>\n",
              "      <td>...</td>\n",
              "      <td>...</td>\n",
              "      <td>...</td>\n",
              "      <td>...</td>\n",
              "    </tr>\n",
              "    <tr>\n",
              "      <th>12016</th>\n",
              "      <td>20784.0</td>\n",
              "      <td>1.284475</td>\n",
              "      <td>-0.528597</td>\n",
              "      <td>-0.551952</td>\n",
              "      <td>-1.692217</td>\n",
              "      <td>1.390419</td>\n",
              "      <td>3.487251</td>\n",
              "      <td>-1.223489</td>\n",
              "      <td>0.875786</td>\n",
              "      <td>2.954982</td>\n",
              "      <td>-1.398574</td>\n",
              "      <td>0.756287</td>\n",
              "      <td>-1.875448</td>\n",
              "      <td>1.673656</td>\n",
              "      <td>1.405684</td>\n",
              "      <td>0.710533</td>\n",
              "      <td>-0.149641</td>\n",
              "      <td>0.081231</td>\n",
              "      <td>0.893577</td>\n",
              "      <td>0.720911</td>\n",
              "      <td>-0.015415</td>\n",
              "      <td>-0.208136</td>\n",
              "      <td>-0.272552</td>\n",
              "      <td>-0.070785</td>\n",
              "      <td>0.957666</td>\n",
              "      <td>0.636471</td>\n",
              "      <td>-0.711079</td>\n",
              "      <td>0.068018</td>\n",
              "      <td>0.024173</td>\n",
              "      <td>11.85</td>\n",
              "    </tr>\n",
              "    <tr>\n",
              "      <th>161025</th>\n",
              "      <td>113799.0</td>\n",
              "      <td>1.864717</td>\n",
              "      <td>0.479145</td>\n",
              "      <td>-0.928875</td>\n",
              "      <td>3.569045</td>\n",
              "      <td>0.588850</td>\n",
              "      <td>-0.002866</td>\n",
              "      <td>0.265924</td>\n",
              "      <td>-0.068823</td>\n",
              "      <td>-1.350931</td>\n",
              "      <td>1.707493</td>\n",
              "      <td>0.285300</td>\n",
              "      <td>0.130100</td>\n",
              "      <td>-0.131333</td>\n",
              "      <td>0.630459</td>\n",
              "      <td>-0.974334</td>\n",
              "      <td>1.206527</td>\n",
              "      <td>-1.278014</td>\n",
              "      <td>0.400213</td>\n",
              "      <td>-1.342140</td>\n",
              "      <td>-0.211711</td>\n",
              "      <td>0.277566</td>\n",
              "      <td>0.695070</td>\n",
              "      <td>-0.017524</td>\n",
              "      <td>-0.349246</td>\n",
              "      <td>0.121197</td>\n",
              "      <td>0.129562</td>\n",
              "      <td>-0.057625</td>\n",
              "      <td>-0.059907</td>\n",
              "      <td>37.93</td>\n",
              "    </tr>\n",
              "    <tr>\n",
              "      <th>49523</th>\n",
              "      <td>44099.0</td>\n",
              "      <td>-5.683239</td>\n",
              "      <td>-7.256650</td>\n",
              "      <td>0.302748</td>\n",
              "      <td>-0.280257</td>\n",
              "      <td>0.897762</td>\n",
              "      <td>-1.982932</td>\n",
              "      <td>-1.418865</td>\n",
              "      <td>0.451375</td>\n",
              "      <td>0.842029</td>\n",
              "      <td>-0.816007</td>\n",
              "      <td>-0.832281</td>\n",
              "      <td>0.839745</td>\n",
              "      <td>0.789651</td>\n",
              "      <td>-0.362290</td>\n",
              "      <td>0.855140</td>\n",
              "      <td>-2.656071</td>\n",
              "      <td>1.071795</td>\n",
              "      <td>1.089603</td>\n",
              "      <td>1.110404</td>\n",
              "      <td>-0.605478</td>\n",
              "      <td>-0.479498</td>\n",
              "      <td>0.010732</td>\n",
              "      <td>3.738808</td>\n",
              "      <td>0.069988</td>\n",
              "      <td>-0.101099</td>\n",
              "      <td>-0.099905</td>\n",
              "      <td>0.613607</td>\n",
              "      <td>-0.316037</td>\n",
              "      <td>329.74</td>\n",
              "    </tr>\n",
              "    <tr>\n",
              "      <th>171306</th>\n",
              "      <td>120580.0</td>\n",
              "      <td>2.130134</td>\n",
              "      <td>-0.103248</td>\n",
              "      <td>-1.507872</td>\n",
              "      <td>0.176722</td>\n",
              "      <td>0.339416</td>\n",
              "      <td>-0.623571</td>\n",
              "      <td>0.150423</td>\n",
              "      <td>-0.256019</td>\n",
              "      <td>0.647418</td>\n",
              "      <td>0.080347</td>\n",
              "      <td>-1.710156</td>\n",
              "      <td>-0.027125</td>\n",
              "      <td>0.015663</td>\n",
              "      <td>0.259630</td>\n",
              "      <td>0.141691</td>\n",
              "      <td>0.209131</td>\n",
              "      <td>-0.652673</td>\n",
              "      <td>-0.501624</td>\n",
              "      <td>0.538592</td>\n",
              "      <td>-0.200033</td>\n",
              "      <td>-0.358632</td>\n",
              "      <td>-0.910849</td>\n",
              "      <td>0.212119</td>\n",
              "      <td>-1.009854</td>\n",
              "      <td>-0.168465</td>\n",
              "      <td>0.260881</td>\n",
              "      <td>-0.074114</td>\n",
              "      <td>-0.070505</td>\n",
              "      <td>4.49</td>\n",
              "    </tr>\n",
              "    <tr>\n",
              "      <th>230338</th>\n",
              "      <td>146291.0</td>\n",
              "      <td>1.790123</td>\n",
              "      <td>-0.676921</td>\n",
              "      <td>-1.407382</td>\n",
              "      <td>-0.100497</td>\n",
              "      <td>0.537655</td>\n",
              "      <td>1.070630</td>\n",
              "      <td>-0.264394</td>\n",
              "      <td>0.340204</td>\n",
              "      <td>0.930112</td>\n",
              "      <td>-0.189152</td>\n",
              "      <td>0.739740</td>\n",
              "      <td>1.068630</td>\n",
              "      <td>-0.564679</td>\n",
              "      <td>0.442784</td>\n",
              "      <td>-0.117090</td>\n",
              "      <td>-0.975383</td>\n",
              "      <td>0.273966</td>\n",
              "      <td>-1.230107</td>\n",
              "      <td>-0.203450</td>\n",
              "      <td>-0.203482</td>\n",
              "      <td>-0.040814</td>\n",
              "      <td>0.048374</td>\n",
              "      <td>0.157158</td>\n",
              "      <td>-1.625878</td>\n",
              "      <td>-0.264069</td>\n",
              "      <td>0.017921</td>\n",
              "      <td>0.005490</td>\n",
              "      <td>-0.072756</td>\n",
              "      <td>70.00</td>\n",
              "    </tr>\n",
              "  </tbody>\n",
              "</table>\n",
              "<p>85118 rows × 30 columns</p>\n",
              "</div>"
            ],
            "text/plain": [
              "            Time        V1        V2  ...       V27       V28   Amount\n",
              "33560    37283.0 -1.071719 -4.343904  ... -0.179133  0.236036  1217.00\n",
              "57869    48115.0  1.314915 -0.980378  ...  0.099256  0.014826    26.31\n",
              "187479  127554.0 -1.680526 -0.959150  ...  0.231809  0.253554   680.91\n",
              "243555  151975.0  2.114488  0.169976  ... -0.082360 -0.075323    12.92\n",
              "96229    65675.0 -5.277692  3.487837  ...  1.383375  0.758996    28.90\n",
              "...          ...       ...       ...  ...       ...       ...      ...\n",
              "12016    20784.0  1.284475 -0.528597  ...  0.068018  0.024173    11.85\n",
              "161025  113799.0  1.864717  0.479145  ... -0.057625 -0.059907    37.93\n",
              "49523    44099.0 -5.683239 -7.256650  ...  0.613607 -0.316037   329.74\n",
              "171306  120580.0  2.130134 -0.103248  ... -0.074114 -0.070505     4.49\n",
              "230338  146291.0  1.790123 -0.676921  ...  0.005490 -0.072756    70.00\n",
              "\n",
              "[85118 rows x 30 columns]"
            ]
          },
          "metadata": {
            "tags": []
          },
          "execution_count": 17
        }
      ]
    },
    {
      "cell_type": "code",
      "metadata": {
        "id": "9alMvtM-m-HC"
      },
      "source": [
        "mean = X_train.mean(axis=0)\n",
        "X_train -= mean\n",
        "std = X_train.std(axis=0)\n",
        "X_train /= std\n",
        "X_test -= mean\n",
        "X_test /= std"
      ],
      "execution_count": 18,
      "outputs": []
    },
    {
      "cell_type": "code",
      "metadata": {
        "id": "58qxNZE9nGcQ"
      },
      "source": [
        "X_train= np.asarray(X_train).astype('float32')\n",
        "X_test= np.asarray(X_test).astype('float32')\n",
        "#y_test=np.asarray(y_test).astype(\"float32\")\n",
        "#y_train=np.asarray(y_train).astype(\"float32\")"
      ],
      "execution_count": 19,
      "outputs": []
    },
    {
      "cell_type": "code",
      "metadata": {
        "id": "GkUxINRPnOaz"
      },
      "source": [
        "val_x=X_train[:100000]\n",
        "partial_x_train=X_train[100000:]\n",
        "val_y=y_train[:100000]\n",
        "partial_y_train=y_train[100000:]"
      ],
      "execution_count": 20,
      "outputs": []
    },
    {
      "cell_type": "code",
      "metadata": {
        "id": "qv7ZIITHnTWO"
      },
      "source": [
        "from keras import models, layers , optimizers "
      ],
      "execution_count": 21,
      "outputs": []
    },
    {
      "cell_type": "markdown",
      "metadata": {
        "id": "Uw23JLeRUGKg"
      },
      "source": [
        ""
      ]
    },
    {
      "cell_type": "code",
      "metadata": {
        "id": "zK6_UepXnUb6"
      },
      "source": [
        "network=models.Sequential()\n",
        "network.add(layers.Dense(6,activation=\"tanh\",input_shape=(X_train.shape[1],)))\n",
        "network.add(layers.Dense(4,activation=\"tanh\"))\n",
        "network.add(layers.Dense(1,activation=\"sigmoid\"))"
      ],
      "execution_count": 22,
      "outputs": []
    },
    {
      "cell_type": "code",
      "metadata": {
        "colab": {
          "base_uri": "https://localhost:8080/"
        },
        "id": "n1veEiWhnaeF",
        "outputId": "221ba44c-e05b-46dd-f5da-130086cd441e"
      },
      "source": [
        "network.summary()"
      ],
      "execution_count": 23,
      "outputs": [
        {
          "output_type": "stream",
          "text": [
            "Model: \"sequential\"\n",
            "_________________________________________________________________\n",
            "Layer (type)                 Output Shape              Param #   \n",
            "=================================================================\n",
            "dense (Dense)                (None, 6)                 186       \n",
            "_________________________________________________________________\n",
            "dense_1 (Dense)              (None, 4)                 28        \n",
            "_________________________________________________________________\n",
            "dense_2 (Dense)              (None, 1)                 5         \n",
            "=================================================================\n",
            "Total params: 219\n",
            "Trainable params: 219\n",
            "Non-trainable params: 0\n",
            "_________________________________________________________________\n"
          ],
          "name": "stdout"
        }
      ]
    },
    {
      "cell_type": "code",
      "metadata": {
        "id": "Wp4q0lZqne7Q"
      },
      "source": [
        "network.compile(optimizer=\"adam\", loss=\"binary_crossentropy\",metrics=['accuracy'])"
      ],
      "execution_count": 24,
      "outputs": []
    },
    {
      "cell_type": "code",
      "metadata": {
        "colab": {
          "base_uri": "https://localhost:8080/"
        },
        "id": "9LT5YCGBnmw6",
        "outputId": "3884cea0-1f0f-4517-b11f-86b4e52cfc93"
      },
      "source": [
        "\n",
        "# model training on training data & validation data\n",
        "history=network.fit(partial_x_train, partial_y_train,epochs=5, batch_size=20, verbose=1,validation_data=(val_x,val_y))"
      ],
      "execution_count": 25,
      "outputs": [
        {
          "output_type": "stream",
          "text": [
            "Epoch 1/5\n",
            "4931/4931 [==============================] - 11s 2ms/step - loss: 0.1313 - accuracy: 0.9668 - val_loss: 0.0034 - val_accuracy: 0.9994\n",
            "Epoch 2/5\n",
            "4931/4931 [==============================] - 10s 2ms/step - loss: 0.0030 - accuracy: 0.9995 - val_loss: 0.0031 - val_accuracy: 0.9994\n",
            "Epoch 3/5\n",
            "4931/4931 [==============================] - 11s 2ms/step - loss: 0.0032 - accuracy: 0.9993 - val_loss: 0.0030 - val_accuracy: 0.9994\n",
            "Epoch 4/5\n",
            "4931/4931 [==============================] - 10s 2ms/step - loss: 0.0024 - accuracy: 0.9995 - val_loss: 0.0030 - val_accuracy: 0.9994\n",
            "Epoch 5/5\n",
            "4931/4931 [==============================] - 10s 2ms/step - loss: 0.0023 - accuracy: 0.9996 - val_loss: 0.0029 - val_accuracy: 0.9995\n"
          ],
          "name": "stdout"
        }
      ]
    },
    {
      "cell_type": "code",
      "metadata": {
        "colab": {
          "base_uri": "https://localhost:8080/"
        },
        "id": "zc10CrAeRHau",
        "outputId": "343ec4d3-1073-41d0-e4bc-d9c7a3262993"
      },
      "source": [
        "history_dict=history.history\n",
        "history_dict.keys()\n",
        "[u\"loss\",u\"accuracy\",u\"val_loss\",u\"val_accuracy\"]"
      ],
      "execution_count": 26,
      "outputs": [
        {
          "output_type": "execute_result",
          "data": {
            "text/plain": [
              "['loss', 'accuracy', 'val_loss', 'val_accuracy']"
            ]
          },
          "metadata": {
            "tags": []
          },
          "execution_count": 26
        }
      ]
    },
    {
      "cell_type": "code",
      "metadata": {
        "colab": {
          "base_uri": "https://localhost:8080/",
          "height": 295
        },
        "id": "GmhZQERIOvCE",
        "outputId": "4b849add-5582-4e48-a03c-769dc5ba4e82"
      },
      "source": [
        "loss = history_dict['loss']\n",
        "val_loss = history_dict['val_loss']\n",
        "epochs = range(1, len(loss) + 1)\n",
        "plt.plot(epochs, loss,\"go\",label='Training loss')\n",
        "plt.plot(epochs, val_loss, 'r', label='Validation loss')\n",
        "plt.title('Training and validation loss')\n",
        "plt.xlabel('Epochs')\n",
        "plt.ylabel('Loss')\n",
        "plt.legend()\n",
        "plt.grid()\n",
        "plt.show()"
      ],
      "execution_count": 27,
      "outputs": [
        {
          "output_type": "display_data",
          "data": {
            "image/png": "[encoded data removed]",
            "text/plain": [
              "<Figure size 432x288 with 1 Axes>"
            ]
          },
          "metadata": {
            "tags": [],
            "needs_background": "light"
          }
        }
      ]
    },
    {
      "cell_type": "code",
      "metadata": {
        "colab": {
          "base_uri": "https://localhost:8080/",
          "height": 295
        },
        "id": "YerPWOPMQlFL",
        "outputId": "e3bf2692-01ee-4b7b-fae8-d1f96694fd09"
      },
      "source": [
        "plt.clf()\n",
        "acc_values = history_dict['accuracy']\n",
        "val_acc_values = history_dict['val_accuracy']\n",
        "epochs = range(1, len(acc_values) + 1)\n",
        "plt.plot(epochs, acc_values, 'ro', label='Training acc')\n",
        "plt.plot(epochs, val_acc_values, 'b', label='Validation accuracy')\n",
        "plt.title('Training and validation accuracy')\n",
        "plt.xlabel('Epochs')\n",
        "plt.ylabel('Loss')\n",
        "plt.grid()\n",
        "plt.legend()\n",
        "plt.show()"
      ],
      "execution_count": 28,
      "outputs": [
        {
          "output_type": "display_data",
          "data": {
            "image/png": "[encoded data removed]",
            "text/plain": [
              "<Figure size 432x288 with 1 Axes>"
            ]
          },
          "metadata": {
            "tags": [],
            "needs_background": "light"
          }
        }
      ]
    },
    {
      "cell_type": "code",
      "metadata": {
        "colab": {
          "base_uri": "https://localhost:8080/"
        },
        "id": "ezhZwTg7-wrm",
        "outputId": "ea1f77f2-7a8b-4cee-e31e-0d1d0d8385aa"
      },
      "source": [
        "loss_1, accuracy = network.evaluate(X_test, y_test)"
      ],
      "execution_count": 29,
      "outputs": [
        {
          "output_type": "stream",
          "text": [
            "2660/2660 [==============================] - 4s 1ms/step - loss: 0.0034 - accuracy: 0.9994\n"
          ],
          "name": "stdout"
        }
      ]
    },
    {
      "cell_type": "code",
      "metadata": {
        "colab": {
          "base_uri": "https://localhost:8080/"
        },
        "id": "i14JuBKhTDcl",
        "outputId": "97d85094-2b95-4aa0-975d-1ce6a2d35ebf"
      },
      "source": [
        "print(f\"loss on evaluation is :{loss_1}\\naccuracy on evaluation is :{accuracy}\")"
      ],
      "execution_count": 30,
      "outputs": [
        {
          "output_type": "stream",
          "text": [
            "loss on evaluation is :0.0034209603909403086\n",
            "accuracy on evaluation is :0.9993773102760315\n"
          ],
          "name": "stdout"
        }
      ]
    },
    {
      "cell_type": "code",
      "metadata": {
        "id": "dEtc_rfV_TqX"
      },
      "source": [
        "x_predict = network.predict(X_test)\n",
        "x=x_predict//100"
      ],
      "execution_count": 31,
      "outputs": []
    },
    {
      "cell_type": "code",
      "metadata": {
        "colab": {
          "base_uri": "https://localhost:8080/",
          "height": 419
        },
        "id": "mG-22hmh_exZ",
        "outputId": "602846e9-7374-43ba-b9f8-2020262e14af"
      },
      "source": [
        "x = pd.DataFrame((x))\n",
        "x"
      ],
      "execution_count": 32,
      "outputs": [
        {
          "output_type": "execute_result",
          "data": {
            "text/html": [
              "<div>\n",
              "<style scoped>\n",
              "    .dataframe tbody tr th:only-of-type {\n",
              "        vertical-align: middle;\n",
              "    }\n",
              "\n",
              "    .dataframe tbody tr th {\n",
              "        vertical-align: top;\n",
              "    }\n",
              "\n",
              "    .dataframe thead th {\n",
              "        text-align: right;\n",
              "    }\n",
              "</style>\n",
              "<table border=\"1\" class=\"dataframe\">\n",
              "  <thead>\n",
              "    <tr style=\"text-align: right;\">\n",
              "      <th></th>\n",
              "      <th>0</th>\n",
              "    </tr>\n",
              "  </thead>\n",
              "  <tbody>\n",
              "    <tr>\n",
              "      <th>0</th>\n",
              "      <td>0.0</td>\n",
              "    </tr>\n",
              "    <tr>\n",
              "      <th>1</th>\n",
              "      <td>0.0</td>\n",
              "    </tr>\n",
              "    <tr>\n",
              "      <th>2</th>\n",
              "      <td>0.0</td>\n",
              "    </tr>\n",
              "    <tr>\n",
              "      <th>3</th>\n",
              "      <td>0.0</td>\n",
              "    </tr>\n",
              "    <tr>\n",
              "      <th>4</th>\n",
              "      <td>0.0</td>\n",
              "    </tr>\n",
              "    <tr>\n",
              "      <th>...</th>\n",
              "      <td>...</td>\n",
              "    </tr>\n",
              "    <tr>\n",
              "      <th>85113</th>\n",
              "      <td>0.0</td>\n",
              "    </tr>\n",
              "    <tr>\n",
              "      <th>85114</th>\n",
              "      <td>0.0</td>\n",
              "    </tr>\n",
              "    <tr>\n",
              "      <th>85115</th>\n",
              "      <td>0.0</td>\n",
              "    </tr>\n",
              "    <tr>\n",
              "      <th>85116</th>\n",
              "      <td>0.0</td>\n",
              "    </tr>\n",
              "    <tr>\n",
              "      <th>85117</th>\n",
              "      <td>0.0</td>\n",
              "    </tr>\n",
              "  </tbody>\n",
              "</table>\n",
              "<p>85118 rows × 1 columns</p>\n",
              "</div>"
            ],
            "text/plain": [
              "         0\n",
              "0      0.0\n",
              "1      0.0\n",
              "2      0.0\n",
              "3      0.0\n",
              "4      0.0\n",
              "...    ...\n",
              "85113  0.0\n",
              "85114  0.0\n",
              "85115  0.0\n",
              "85116  0.0\n",
              "85117  0.0\n",
              "\n",
              "[85118 rows x 1 columns]"
            ]
          },
          "metadata": {
            "tags": []
          },
          "execution_count": 32
        }
      ]
    },
    {
      "cell_type": "code",
      "metadata": {
        "id": "mDT6MVkK_jjF"
      },
      "source": [
        ""
      ],
      "execution_count": 32,
      "outputs": []
    },
    {
      "cell_type": "code",
      "metadata": {
        "id": "WwllFEaGPq8M"
      },
      "source": [
        ""
      ],
      "execution_count": 32,
      "outputs": []
    }
  ]
}