{
  "nbformat": 4,
  "nbformat_minor": 0,
  "metadata": {
    "kernelspec": {
      "display_name": "Python 3",
      "language": "python",
      "name": "python3"
    },
    "language_info": {
      "codemirror_mode": {
        "name": "ipython",
        "version": 3
      },
      "file_extension": ".py",
      "mimetype": "text/x-python",
      "name": "python",
      "nbconvert_exporter": "python",
      "pygments_lexer": "ipython3",
      "version": "3.7.6"
    },
    "colab": {
      "name": "Car Price Prediction assignment.ipynb",
      "provenance": [],
      "include_colab_link": true
    }
  },
  "cells": [
    {
      "cell_type": "markdown",
      "metadata": {
        "id": "view-in-github",
        "colab_type": "text"
      },
      "source": [
        "<a href=\"https://colab.research.google.com/github/sadaqatali1234/Deep-learning-assigments/blob/main/Car_Price_Prediction_assignment.ipynb\" target=\"_parent\"><img src=\"https://colab.research.google.com/assets/colab-badge.svg\" alt=\"Open In Colab\"/></a>"
      ]
    },
    {
      "cell_type": "markdown",
      "metadata": {
        "id": "sMNQWyN0xU9q"
      },
      "source": [
        "# Car Price Prediction::"
      ]
    },
    {
      "cell_type": "markdown",
      "metadata": {
        "id": "lRcwEJBbxU91"
      },
      "source": [
        "Download dataset from this link:\n",
        "\n",
        "https://www.kaggle.com/hellbuoy/car-price-prediction"
      ]
    },
    {
      "cell_type": "markdown",
      "metadata": {
        "id": "6iwzOdWVxU92"
      },
      "source": [
        "# Problem Statement::"
      ]
    },
    {
      "cell_type": "markdown",
      "metadata": {
        "id": "vdcrxOjJxU93"
      },
      "source": [
        "A Chinese automobile company Geely Auto aspires to enter the US market by setting up their manufacturing unit there and producing cars locally to give competition to their US and European counterparts.\n",
        "\n",
        "They have contracted an automobile consulting company to understand the factors on which the pricing of cars depends. Specifically, they want to understand the factors affecting the pricing of cars in the American market, since those may be very different from the Chinese market. The company wants to know:\n",
        "\n",
        "Which variables are significant in predicting the price of a car\n",
        "How well those variables describe the price of a car\n",
        "Based on various market surveys, the consulting firm has gathered a large data set of different types of cars across the America market.\n",
        "\n",
        "# task::\n",
        "We are required to model the price of cars with the available independent variables. It will be used by the management to understand how exactly the prices vary with the independent variables. They can accordingly manipulate the design of the cars, the business strategy etc. to meet certain price levels. Further, the model will be a good way for management to understand the pricing dynamics of a new market."
      ]
    },
    {
      "cell_type": "markdown",
      "metadata": {
        "id": "A9udJmRIxU94"
      },
      "source": [
        "# WORKFLOW ::"
      ]
    },
    {
      "cell_type": "markdown",
      "metadata": {
        "id": "Mg0LFipjxU94"
      },
      "source": [
        "1.Load Data\n",
        "\n",
        "2.Check Missing Values ( If Exist ; Fill each record with mean of its feature )\n",
        "\n",
        "3.Split into 50% Training(Samples,Labels) , 30% Test(Samples,Labels) and 20% Validation Data(Samples,Labels).\n",
        "\n",
        "4.Model : input Layer (No. of features ), 3 hidden layers including 10,8,6 unit & Output Layer with activation function relu/tanh (check by experiment).\n",
        "\n",
        "5.Compilation Step (Note : Its a Regression problem , select loss , metrics according to it)\n",
        "6.Train the Model with Epochs (100) and validate it\n",
        "\n",
        "7.If the model gets overfit tune your model by changing the units , No. of layers , activation function , epochs , add dropout layer or add Regularizer according to the need .\n",
        "\n",
        "8.Evaluation Step\n",
        "\n",
        "9.Prediction"
      ]
    },
    {
      "cell_type": "code",
      "metadata": {
        "id": "6p7Jhz5_xU95"
      },
      "source": [
        "# importing all libarires \n",
        "import numpy as np\n",
        "import pandas as pd\n",
        "import matplotlib.pyplot as plt\n",
        "import seaborn as sns\n"
      ],
      "execution_count": 1,
      "outputs": []
    },
    {
      "cell_type": "code",
      "metadata": {
        "id": "Xbu5dVklxU96",
        "colab": {
          "base_uri": "https://localhost:8080/"
        },
        "outputId": "2997ebd6-875e-41a9-9e76-6d4df5030104"
      },
      "source": [
        "# google mount \n",
        "from google.colab import drive\n",
        "drive.mount(\"/content/drive\")"
      ],
      "execution_count": 2,
      "outputs": [
        {
          "output_type": "stream",
          "text": [
            "Drive already mounted at /content/drive; to attempt to forcibly remount, call drive.mount(\"/content/drive\", force_remount=True).\n"
          ],
          "name": "stdout"
        }
      ]
    },
    {
      "cell_type": "markdown",
      "metadata": {
        "id": "sUJ-WB3hzgLq"
      },
      "source": [
        "**load data**"
      ]
    },
    {
      "cell_type": "code",
      "metadata": {
        "id": "Ed3u6UgMxU97"
      },
      "source": [
        "df = pd.read_csv(\"/content/drive/MyDrive/CarPrice_Assignment.csv\")"
      ],
      "execution_count": 3,
      "outputs": []
    },
    {
      "cell_type": "markdown",
      "metadata": {
        "id": "r_UdiL8rMMAk"
      },
      "source": [
        "***Data cleaning and analyzing***"
      ]
    },
    {
      "cell_type": "code",
      "metadata": {
        "id": "QRE1LVNUxU97",
        "colab": {
          "base_uri": "https://localhost:8080/",
          "height": 275
        },
        "outputId": "9569beb3-67b6-4a01-dea0-b4d2044bfcb0"
      },
      "source": [
        "# check data frame first 5 rows\n",
        "df.head()\n"
      ],
      "execution_count": 4,
      "outputs": [
        {
          "output_type": "execute_result",
          "data": {
            "text/html": [
              "<div>\n",
              "<style scoped>\n",
              "    .dataframe tbody tr th:only-of-type {\n",
              "        vertical-align: middle;\n",
              "    }\n",
              "\n",
              "    .dataframe tbody tr th {\n",
              "        vertical-align: top;\n",
              "    }\n",
              "\n",
              "    .dataframe thead th {\n",
              "        text-align: right;\n",
              "    }\n",
              "</style>\n",
              "<table border=\"1\" class=\"dataframe\">\n",
              "  <thead>\n",
              "    <tr style=\"text-align: right;\">\n",
              "      <th></th>\n",
              "      <th>car_ID</th>\n",
              "      <th>symboling</th>\n",
              "      <th>CarName</th>\n",
              "      <th>fueltype</th>\n",
              "      <th>aspiration</th>\n",
              "      <th>doornumber</th>\n",
              "      <th>carbody</th>\n",
              "      <th>drivewheel</th>\n",
              "      <th>enginelocation</th>\n",
              "      <th>wheelbase</th>\n",
              "      <th>carlength</th>\n",
              "      <th>carwidth</th>\n",
              "      <th>carheight</th>\n",
              "      <th>curbweight</th>\n",
              "      <th>enginetype</th>\n",
              "      <th>cylindernumber</th>\n",
              "      <th>enginesize</th>\n",
              "      <th>fuelsystem</th>\n",
              "      <th>boreratio</th>\n",
              "      <th>stroke</th>\n",
              "      <th>compressionratio</th>\n",
              "      <th>horsepower</th>\n",
              "      <th>peakrpm</th>\n",
              "      <th>citympg</th>\n",
              "      <th>highwaympg</th>\n",
              "      <th>price</th>\n",
              "    </tr>\n",
              "  </thead>\n",
              "  <tbody>\n",
              "    <tr>\n",
              "      <th>0</th>\n",
              "      <td>1</td>\n",
              "      <td>3</td>\n",
              "      <td>alfa-romero giulia</td>\n",
              "      <td>gas</td>\n",
              "      <td>std</td>\n",
              "      <td>two</td>\n",
              "      <td>convertible</td>\n",
              "      <td>rwd</td>\n",
              "      <td>front</td>\n",
              "      <td>88.6</td>\n",
              "      <td>168.8</td>\n",
              "      <td>64.1</td>\n",
              "      <td>48.8</td>\n",
              "      <td>2548</td>\n",
              "      <td>dohc</td>\n",
              "      <td>four</td>\n",
              "      <td>130</td>\n",
              "      <td>mpfi</td>\n",
              "      <td>3.47</td>\n",
              "      <td>2.68</td>\n",
              "      <td>9.0</td>\n",
              "      <td>111</td>\n",
              "      <td>5000</td>\n",
              "      <td>21</td>\n",
              "      <td>27</td>\n",
              "      <td>13495.0</td>\n",
              "    </tr>\n",
              "    <tr>\n",
              "      <th>1</th>\n",
              "      <td>2</td>\n",
              "      <td>3</td>\n",
              "      <td>alfa-romero stelvio</td>\n",
              "      <td>gas</td>\n",
              "      <td>std</td>\n",
              "      <td>two</td>\n",
              "      <td>convertible</td>\n",
              "      <td>rwd</td>\n",
              "      <td>front</td>\n",
              "      <td>88.6</td>\n",
              "      <td>168.8</td>\n",
              "      <td>64.1</td>\n",
              "      <td>48.8</td>\n",
              "      <td>2548</td>\n",
              "      <td>dohc</td>\n",
              "      <td>four</td>\n",
              "      <td>130</td>\n",
              "      <td>mpfi</td>\n",
              "      <td>3.47</td>\n",
              "      <td>2.68</td>\n",
              "      <td>9.0</td>\n",
              "      <td>111</td>\n",
              "      <td>5000</td>\n",
              "      <td>21</td>\n",
              "      <td>27</td>\n",
              "      <td>16500.0</td>\n",
              "    </tr>\n",
              "    <tr>\n",
              "      <th>2</th>\n",
              "      <td>3</td>\n",
              "      <td>1</td>\n",
              "      <td>alfa-romero Quadrifoglio</td>\n",
              "      <td>gas</td>\n",
              "      <td>std</td>\n",
              "      <td>two</td>\n",
              "      <td>hatchback</td>\n",
              "      <td>rwd</td>\n",
              "      <td>front</td>\n",
              "      <td>94.5</td>\n",
              "      <td>171.2</td>\n",
              "      <td>65.5</td>\n",
              "      <td>52.4</td>\n",
              "      <td>2823</td>\n",
              "      <td>ohcv</td>\n",
              "      <td>six</td>\n",
              "      <td>152</td>\n",
              "      <td>mpfi</td>\n",
              "      <td>2.68</td>\n",
              "      <td>3.47</td>\n",
              "      <td>9.0</td>\n",
              "      <td>154</td>\n",
              "      <td>5000</td>\n",
              "      <td>19</td>\n",
              "      <td>26</td>\n",
              "      <td>16500.0</td>\n",
              "    </tr>\n",
              "    <tr>\n",
              "      <th>3</th>\n",
              "      <td>4</td>\n",
              "      <td>2</td>\n",
              "      <td>audi 100 ls</td>\n",
              "      <td>gas</td>\n",
              "      <td>std</td>\n",
              "      <td>four</td>\n",
              "      <td>sedan</td>\n",
              "      <td>fwd</td>\n",
              "      <td>front</td>\n",
              "      <td>99.8</td>\n",
              "      <td>176.6</td>\n",
              "      <td>66.2</td>\n",
              "      <td>54.3</td>\n",
              "      <td>2337</td>\n",
              "      <td>ohc</td>\n",
              "      <td>four</td>\n",
              "      <td>109</td>\n",
              "      <td>mpfi</td>\n",
              "      <td>3.19</td>\n",
              "      <td>3.40</td>\n",
              "      <td>10.0</td>\n",
              "      <td>102</td>\n",
              "      <td>5500</td>\n",
              "      <td>24</td>\n",
              "      <td>30</td>\n",
              "      <td>13950.0</td>\n",
              "    </tr>\n",
              "    <tr>\n",
              "      <th>4</th>\n",
              "      <td>5</td>\n",
              "      <td>2</td>\n",
              "      <td>audi 100ls</td>\n",
              "      <td>gas</td>\n",
              "      <td>std</td>\n",
              "      <td>four</td>\n",
              "      <td>sedan</td>\n",
              "      <td>4wd</td>\n",
              "      <td>front</td>\n",
              "      <td>99.4</td>\n",
              "      <td>176.6</td>\n",
              "      <td>66.4</td>\n",
              "      <td>54.3</td>\n",
              "      <td>2824</td>\n",
              "      <td>ohc</td>\n",
              "      <td>five</td>\n",
              "      <td>136</td>\n",
              "      <td>mpfi</td>\n",
              "      <td>3.19</td>\n",
              "      <td>3.40</td>\n",
              "      <td>8.0</td>\n",
              "      <td>115</td>\n",
              "      <td>5500</td>\n",
              "      <td>18</td>\n",
              "      <td>22</td>\n",
              "      <td>17450.0</td>\n",
              "    </tr>\n",
              "  </tbody>\n",
              "</table>\n",
              "</div>"
            ],
            "text/plain": [
              "   car_ID  symboling                   CarName  ... citympg highwaympg    price\n",
              "0       1          3        alfa-romero giulia  ...      21         27  13495.0\n",
              "1       2          3       alfa-romero stelvio  ...      21         27  16500.0\n",
              "2       3          1  alfa-romero Quadrifoglio  ...      19         26  16500.0\n",
              "3       4          2               audi 100 ls  ...      24         30  13950.0\n",
              "4       5          2                audi 100ls  ...      18         22  17450.0\n",
              "\n",
              "[5 rows x 26 columns]"
            ]
          },
          "metadata": {
            "tags": []
          },
          "execution_count": 4
        }
      ]
    },
    {
      "cell_type": "code",
      "metadata": {
        "id": "4bWOt9VUxU98",
        "colab": {
          "base_uri": "https://localhost:8080/",
          "height": 326
        },
        "outputId": "786ff767-2194-4ad1-800b-6812509e7a22"
      },
      "source": [
        "# check last five rows\n",
        "df.tail()"
      ],
      "execution_count": 5,
      "outputs": [
        {
          "output_type": "execute_result",
          "data": {
            "text/html": [
              "<div>\n",
              "<style scoped>\n",
              "    .dataframe tbody tr th:only-of-type {\n",
              "        vertical-align: middle;\n",
              "    }\n",
              "\n",
              "    .dataframe tbody tr th {\n",
              "        vertical-align: top;\n",
              "    }\n",
              "\n",
              "    .dataframe thead th {\n",
              "        text-align: right;\n",
              "    }\n",
              "</style>\n",
              "<table border=\"1\" class=\"dataframe\">\n",
              "  <thead>\n",
              "    <tr style=\"text-align: right;\">\n",
              "      <th></th>\n",
              "      <th>car_ID</th>\n",
              "      <th>symboling</th>\n",
              "      <th>CarName</th>\n",
              "      <th>fueltype</th>\n",
              "      <th>aspiration</th>\n",
              "      <th>doornumber</th>\n",
              "      <th>carbody</th>\n",
              "      <th>drivewheel</th>\n",
              "      <th>enginelocation</th>\n",
              "      <th>wheelbase</th>\n",
              "      <th>carlength</th>\n",
              "      <th>carwidth</th>\n",
              "      <th>carheight</th>\n",
              "      <th>curbweight</th>\n",
              "      <th>enginetype</th>\n",
              "      <th>cylindernumber</th>\n",
              "      <th>enginesize</th>\n",
              "      <th>fuelsystem</th>\n",
              "      <th>boreratio</th>\n",
              "      <th>stroke</th>\n",
              "      <th>compressionratio</th>\n",
              "      <th>horsepower</th>\n",
              "      <th>peakrpm</th>\n",
              "      <th>citympg</th>\n",
              "      <th>highwaympg</th>\n",
              "      <th>price</th>\n",
              "    </tr>\n",
              "  </thead>\n",
              "  <tbody>\n",
              "    <tr>\n",
              "      <th>200</th>\n",
              "      <td>201</td>\n",
              "      <td>-1</td>\n",
              "      <td>volvo 145e (sw)</td>\n",
              "      <td>gas</td>\n",
              "      <td>std</td>\n",
              "      <td>four</td>\n",
              "      <td>sedan</td>\n",
              "      <td>rwd</td>\n",
              "      <td>front</td>\n",
              "      <td>109.1</td>\n",
              "      <td>188.8</td>\n",
              "      <td>68.9</td>\n",
              "      <td>55.5</td>\n",
              "      <td>2952</td>\n",
              "      <td>ohc</td>\n",
              "      <td>four</td>\n",
              "      <td>141</td>\n",
              "      <td>mpfi</td>\n",
              "      <td>3.78</td>\n",
              "      <td>3.15</td>\n",
              "      <td>9.5</td>\n",
              "      <td>114</td>\n",
              "      <td>5400</td>\n",
              "      <td>23</td>\n",
              "      <td>28</td>\n",
              "      <td>16845.0</td>\n",
              "    </tr>\n",
              "    <tr>\n",
              "      <th>201</th>\n",
              "      <td>202</td>\n",
              "      <td>-1</td>\n",
              "      <td>volvo 144ea</td>\n",
              "      <td>gas</td>\n",
              "      <td>turbo</td>\n",
              "      <td>four</td>\n",
              "      <td>sedan</td>\n",
              "      <td>rwd</td>\n",
              "      <td>front</td>\n",
              "      <td>109.1</td>\n",
              "      <td>188.8</td>\n",
              "      <td>68.8</td>\n",
              "      <td>55.5</td>\n",
              "      <td>3049</td>\n",
              "      <td>ohc</td>\n",
              "      <td>four</td>\n",
              "      <td>141</td>\n",
              "      <td>mpfi</td>\n",
              "      <td>3.78</td>\n",
              "      <td>3.15</td>\n",
              "      <td>8.7</td>\n",
              "      <td>160</td>\n",
              "      <td>5300</td>\n",
              "      <td>19</td>\n",
              "      <td>25</td>\n",
              "      <td>19045.0</td>\n",
              "    </tr>\n",
              "    <tr>\n",
              "      <th>202</th>\n",
              "      <td>203</td>\n",
              "      <td>-1</td>\n",
              "      <td>volvo 244dl</td>\n",
              "      <td>gas</td>\n",
              "      <td>std</td>\n",
              "      <td>four</td>\n",
              "      <td>sedan</td>\n",
              "      <td>rwd</td>\n",
              "      <td>front</td>\n",
              "      <td>109.1</td>\n",
              "      <td>188.8</td>\n",
              "      <td>68.9</td>\n",
              "      <td>55.5</td>\n",
              "      <td>3012</td>\n",
              "      <td>ohcv</td>\n",
              "      <td>six</td>\n",
              "      <td>173</td>\n",
              "      <td>mpfi</td>\n",
              "      <td>3.58</td>\n",
              "      <td>2.87</td>\n",
              "      <td>8.8</td>\n",
              "      <td>134</td>\n",
              "      <td>5500</td>\n",
              "      <td>18</td>\n",
              "      <td>23</td>\n",
              "      <td>21485.0</td>\n",
              "    </tr>\n",
              "    <tr>\n",
              "      <th>203</th>\n",
              "      <td>204</td>\n",
              "      <td>-1</td>\n",
              "      <td>volvo 246</td>\n",
              "      <td>diesel</td>\n",
              "      <td>turbo</td>\n",
              "      <td>four</td>\n",
              "      <td>sedan</td>\n",
              "      <td>rwd</td>\n",
              "      <td>front</td>\n",
              "      <td>109.1</td>\n",
              "      <td>188.8</td>\n",
              "      <td>68.9</td>\n",
              "      <td>55.5</td>\n",
              "      <td>3217</td>\n",
              "      <td>ohc</td>\n",
              "      <td>six</td>\n",
              "      <td>145</td>\n",
              "      <td>idi</td>\n",
              "      <td>3.01</td>\n",
              "      <td>3.40</td>\n",
              "      <td>23.0</td>\n",
              "      <td>106</td>\n",
              "      <td>4800</td>\n",
              "      <td>26</td>\n",
              "      <td>27</td>\n",
              "      <td>22470.0</td>\n",
              "    </tr>\n",
              "    <tr>\n",
              "      <th>204</th>\n",
              "      <td>205</td>\n",
              "      <td>-1</td>\n",
              "      <td>volvo 264gl</td>\n",
              "      <td>gas</td>\n",
              "      <td>turbo</td>\n",
              "      <td>four</td>\n",
              "      <td>sedan</td>\n",
              "      <td>rwd</td>\n",
              "      <td>front</td>\n",
              "      <td>109.1</td>\n",
              "      <td>188.8</td>\n",
              "      <td>68.9</td>\n",
              "      <td>55.5</td>\n",
              "      <td>3062</td>\n",
              "      <td>ohc</td>\n",
              "      <td>four</td>\n",
              "      <td>141</td>\n",
              "      <td>mpfi</td>\n",
              "      <td>3.78</td>\n",
              "      <td>3.15</td>\n",
              "      <td>9.5</td>\n",
              "      <td>114</td>\n",
              "      <td>5400</td>\n",
              "      <td>19</td>\n",
              "      <td>25</td>\n",
              "      <td>22625.0</td>\n",
              "    </tr>\n",
              "  </tbody>\n",
              "</table>\n",
              "</div>"
            ],
            "text/plain": [
              "     car_ID  symboling          CarName  ... citympg highwaympg    price\n",
              "200     201         -1  volvo 145e (sw)  ...      23         28  16845.0\n",
              "201     202         -1      volvo 144ea  ...      19         25  19045.0\n",
              "202     203         -1      volvo 244dl  ...      18         23  21485.0\n",
              "203     204         -1        volvo 246  ...      26         27  22470.0\n",
              "204     205         -1      volvo 264gl  ...      19         25  22625.0\n",
              "\n",
              "[5 rows x 26 columns]"
            ]
          },
          "metadata": {
            "tags": []
          },
          "execution_count": 5
        }
      ]
    },
    {
      "cell_type": "code",
      "metadata": {
        "id": "_hKLuWjrxU98",
        "colab": {
          "base_uri": "https://localhost:8080/",
          "height": 230
        },
        "outputId": "89870b00-2086-4f11-daf0-8f5dac119d4f"
      },
      "source": [
        "# check randomly 3 rows using sample methods\n",
        "df.sample(3)"
      ],
      "execution_count": 6,
      "outputs": [
        {
          "output_type": "execute_result",
          "data": {
            "text/html": [
              "<div>\n",
              "<style scoped>\n",
              "    .dataframe tbody tr th:only-of-type {\n",
              "        vertical-align: middle;\n",
              "    }\n",
              "\n",
              "    .dataframe tbody tr th {\n",
              "        vertical-align: top;\n",
              "    }\n",
              "\n",
              "    .dataframe thead th {\n",
              "        text-align: right;\n",
              "    }\n",
              "</style>\n",
              "<table border=\"1\" class=\"dataframe\">\n",
              "  <thead>\n",
              "    <tr style=\"text-align: right;\">\n",
              "      <th></th>\n",
              "      <th>car_ID</th>\n",
              "      <th>symboling</th>\n",
              "      <th>CarName</th>\n",
              "      <th>fueltype</th>\n",
              "      <th>aspiration</th>\n",
              "      <th>doornumber</th>\n",
              "      <th>carbody</th>\n",
              "      <th>drivewheel</th>\n",
              "      <th>enginelocation</th>\n",
              "      <th>wheelbase</th>\n",
              "      <th>carlength</th>\n",
              "      <th>carwidth</th>\n",
              "      <th>carheight</th>\n",
              "      <th>curbweight</th>\n",
              "      <th>enginetype</th>\n",
              "      <th>cylindernumber</th>\n",
              "      <th>enginesize</th>\n",
              "      <th>fuelsystem</th>\n",
              "      <th>boreratio</th>\n",
              "      <th>stroke</th>\n",
              "      <th>compressionratio</th>\n",
              "      <th>horsepower</th>\n",
              "      <th>peakrpm</th>\n",
              "      <th>citympg</th>\n",
              "      <th>highwaympg</th>\n",
              "      <th>price</th>\n",
              "    </tr>\n",
              "  </thead>\n",
              "  <tbody>\n",
              "    <tr>\n",
              "      <th>99</th>\n",
              "      <td>100</td>\n",
              "      <td>0</td>\n",
              "      <td>nissan rogue</td>\n",
              "      <td>gas</td>\n",
              "      <td>std</td>\n",
              "      <td>four</td>\n",
              "      <td>hatchback</td>\n",
              "      <td>fwd</td>\n",
              "      <td>front</td>\n",
              "      <td>97.2</td>\n",
              "      <td>173.4</td>\n",
              "      <td>65.2</td>\n",
              "      <td>54.7</td>\n",
              "      <td>2324</td>\n",
              "      <td>ohc</td>\n",
              "      <td>four</td>\n",
              "      <td>120</td>\n",
              "      <td>2bbl</td>\n",
              "      <td>3.33</td>\n",
              "      <td>3.47</td>\n",
              "      <td>8.5</td>\n",
              "      <td>97</td>\n",
              "      <td>5200</td>\n",
              "      <td>27</td>\n",
              "      <td>34</td>\n",
              "      <td>8949.000</td>\n",
              "    </tr>\n",
              "    <tr>\n",
              "      <th>9</th>\n",
              "      <td>10</td>\n",
              "      <td>0</td>\n",
              "      <td>audi 5000s (diesel)</td>\n",
              "      <td>gas</td>\n",
              "      <td>turbo</td>\n",
              "      <td>two</td>\n",
              "      <td>hatchback</td>\n",
              "      <td>4wd</td>\n",
              "      <td>front</td>\n",
              "      <td>99.5</td>\n",
              "      <td>178.2</td>\n",
              "      <td>67.9</td>\n",
              "      <td>52.0</td>\n",
              "      <td>3053</td>\n",
              "      <td>ohc</td>\n",
              "      <td>five</td>\n",
              "      <td>131</td>\n",
              "      <td>mpfi</td>\n",
              "      <td>3.13</td>\n",
              "      <td>3.40</td>\n",
              "      <td>7.0</td>\n",
              "      <td>160</td>\n",
              "      <td>5500</td>\n",
              "      <td>16</td>\n",
              "      <td>22</td>\n",
              "      <td>17859.167</td>\n",
              "    </tr>\n",
              "    <tr>\n",
              "      <th>162</th>\n",
              "      <td>163</td>\n",
              "      <td>0</td>\n",
              "      <td>toyota mark ii</td>\n",
              "      <td>gas</td>\n",
              "      <td>std</td>\n",
              "      <td>four</td>\n",
              "      <td>sedan</td>\n",
              "      <td>fwd</td>\n",
              "      <td>front</td>\n",
              "      <td>95.7</td>\n",
              "      <td>166.3</td>\n",
              "      <td>64.4</td>\n",
              "      <td>52.8</td>\n",
              "      <td>2140</td>\n",
              "      <td>ohc</td>\n",
              "      <td>four</td>\n",
              "      <td>98</td>\n",
              "      <td>2bbl</td>\n",
              "      <td>3.19</td>\n",
              "      <td>3.03</td>\n",
              "      <td>9.0</td>\n",
              "      <td>70</td>\n",
              "      <td>4800</td>\n",
              "      <td>28</td>\n",
              "      <td>34</td>\n",
              "      <td>9258.000</td>\n",
              "    </tr>\n",
              "  </tbody>\n",
              "</table>\n",
              "</div>"
            ],
            "text/plain": [
              "     car_ID  symboling              CarName  ... citympg highwaympg      price\n",
              "99      100          0         nissan rogue  ...      27         34   8949.000\n",
              "9        10          0  audi 5000s (diesel)  ...      16         22  17859.167\n",
              "162     163          0       toyota mark ii  ...      28         34   9258.000\n",
              "\n",
              "[3 rows x 26 columns]"
            ]
          },
          "metadata": {
            "tags": []
          },
          "execution_count": 6
        }
      ]
    },
    {
      "cell_type": "code",
      "metadata": {
        "id": "T-NOrJvN0WjJ",
        "colab": {
          "base_uri": "https://localhost:8080/"
        },
        "outputId": "899bbb7c-1271-4c5a-ac6c-e5efc5ba9d10"
      },
      "source": [
        "# check null values in data set\n",
        "df.isnull().sum()"
      ],
      "execution_count": 7,
      "outputs": [
        {
          "output_type": "execute_result",
          "data": {
            "text/plain": [
              "car_ID              0\n",
              "symboling           0\n",
              "CarName             0\n",
              "fueltype            0\n",
              "aspiration          0\n",
              "doornumber          0\n",
              "carbody             0\n",
              "drivewheel          0\n",
              "enginelocation      0\n",
              "wheelbase           0\n",
              "carlength           0\n",
              "carwidth            0\n",
              "carheight           0\n",
              "curbweight          0\n",
              "enginetype          0\n",
              "cylindernumber      0\n",
              "enginesize          0\n",
              "fuelsystem          0\n",
              "boreratio           0\n",
              "stroke              0\n",
              "compressionratio    0\n",
              "horsepower          0\n",
              "peakrpm             0\n",
              "citympg             0\n",
              "highwaympg          0\n",
              "price               0\n",
              "dtype: int64"
            ]
          },
          "metadata": {
            "tags": []
          },
          "execution_count": 7
        }
      ]
    },
    {
      "cell_type": "code",
      "metadata": {
        "id": "UZ3th2eh07jz",
        "colab": {
          "base_uri": "https://localhost:8080/",
          "height": 317
        },
        "outputId": "6d93f070-b89d-4a9a-be62-e0fc482c8112"
      },
      "source": [
        "# check statistcal description\n",
        "df.describe()"
      ],
      "execution_count": 8,
      "outputs": [
        {
          "output_type": "execute_result",
          "data": {
            "text/html": [
              "<div>\n",
              "<style scoped>\n",
              "    .dataframe tbody tr th:only-of-type {\n",
              "        vertical-align: middle;\n",
              "    }\n",
              "\n",
              "    .dataframe tbody tr th {\n",
              "        vertical-align: top;\n",
              "    }\n",
              "\n",
              "    .dataframe thead th {\n",
              "        text-align: right;\n",
              "    }\n",
              "</style>\n",
              "<table border=\"1\" class=\"dataframe\">\n",
              "  <thead>\n",
              "    <tr style=\"text-align: right;\">\n",
              "      <th></th>\n",
              "      <th>car_ID</th>\n",
              "      <th>symboling</th>\n",
              "      <th>wheelbase</th>\n",
              "      <th>carlength</th>\n",
              "      <th>carwidth</th>\n",
              "      <th>carheight</th>\n",
              "      <th>curbweight</th>\n",
              "      <th>enginesize</th>\n",
              "      <th>boreratio</th>\n",
              "      <th>stroke</th>\n",
              "      <th>compressionratio</th>\n",
              "      <th>horsepower</th>\n",
              "      <th>peakrpm</th>\n",
              "      <th>citympg</th>\n",
              "      <th>highwaympg</th>\n",
              "      <th>price</th>\n",
              "    </tr>\n",
              "  </thead>\n",
              "  <tbody>\n",
              "    <tr>\n",
              "      <th>count</th>\n",
              "      <td>205.000000</td>\n",
              "      <td>205.000000</td>\n",
              "      <td>205.000000</td>\n",
              "      <td>205.000000</td>\n",
              "      <td>205.000000</td>\n",
              "      <td>205.000000</td>\n",
              "      <td>205.000000</td>\n",
              "      <td>205.000000</td>\n",
              "      <td>205.000000</td>\n",
              "      <td>205.000000</td>\n",
              "      <td>205.000000</td>\n",
              "      <td>205.000000</td>\n",
              "      <td>205.000000</td>\n",
              "      <td>205.000000</td>\n",
              "      <td>205.000000</td>\n",
              "      <td>205.000000</td>\n",
              "    </tr>\n",
              "    <tr>\n",
              "      <th>mean</th>\n",
              "      <td>103.000000</td>\n",
              "      <td>0.834146</td>\n",
              "      <td>98.756585</td>\n",
              "      <td>174.049268</td>\n",
              "      <td>65.907805</td>\n",
              "      <td>53.724878</td>\n",
              "      <td>2555.565854</td>\n",
              "      <td>126.907317</td>\n",
              "      <td>3.329756</td>\n",
              "      <td>3.255415</td>\n",
              "      <td>10.142537</td>\n",
              "      <td>104.117073</td>\n",
              "      <td>5125.121951</td>\n",
              "      <td>25.219512</td>\n",
              "      <td>30.751220</td>\n",
              "      <td>13276.710571</td>\n",
              "    </tr>\n",
              "    <tr>\n",
              "      <th>std</th>\n",
              "      <td>59.322565</td>\n",
              "      <td>1.245307</td>\n",
              "      <td>6.021776</td>\n",
              "      <td>12.337289</td>\n",
              "      <td>2.145204</td>\n",
              "      <td>2.443522</td>\n",
              "      <td>520.680204</td>\n",
              "      <td>41.642693</td>\n",
              "      <td>0.270844</td>\n",
              "      <td>0.313597</td>\n",
              "      <td>3.972040</td>\n",
              "      <td>39.544167</td>\n",
              "      <td>476.985643</td>\n",
              "      <td>6.542142</td>\n",
              "      <td>6.886443</td>\n",
              "      <td>7988.852332</td>\n",
              "    </tr>\n",
              "    <tr>\n",
              "      <th>min</th>\n",
              "      <td>1.000000</td>\n",
              "      <td>-2.000000</td>\n",
              "      <td>86.600000</td>\n",
              "      <td>141.100000</td>\n",
              "      <td>60.300000</td>\n",
              "      <td>47.800000</td>\n",
              "      <td>1488.000000</td>\n",
              "      <td>61.000000</td>\n",
              "      <td>2.540000</td>\n",
              "      <td>2.070000</td>\n",
              "      <td>7.000000</td>\n",
              "      <td>48.000000</td>\n",
              "      <td>4150.000000</td>\n",
              "      <td>13.000000</td>\n",
              "      <td>16.000000</td>\n",
              "      <td>5118.000000</td>\n",
              "    </tr>\n",
              "    <tr>\n",
              "      <th>25%</th>\n",
              "      <td>52.000000</td>\n",
              "      <td>0.000000</td>\n",
              "      <td>94.500000</td>\n",
              "      <td>166.300000</td>\n",
              "      <td>64.100000</td>\n",
              "      <td>52.000000</td>\n",
              "      <td>2145.000000</td>\n",
              "      <td>97.000000</td>\n",
              "      <td>3.150000</td>\n",
              "      <td>3.110000</td>\n",
              "      <td>8.600000</td>\n",
              "      <td>70.000000</td>\n",
              "      <td>4800.000000</td>\n",
              "      <td>19.000000</td>\n",
              "      <td>25.000000</td>\n",
              "      <td>7788.000000</td>\n",
              "    </tr>\n",
              "    <tr>\n",
              "      <th>50%</th>\n",
              "      <td>103.000000</td>\n",
              "      <td>1.000000</td>\n",
              "      <td>97.000000</td>\n",
              "      <td>173.200000</td>\n",
              "      <td>65.500000</td>\n",
              "      <td>54.100000</td>\n",
              "      <td>2414.000000</td>\n",
              "      <td>120.000000</td>\n",
              "      <td>3.310000</td>\n",
              "      <td>3.290000</td>\n",
              "      <td>9.000000</td>\n",
              "      <td>95.000000</td>\n",
              "      <td>5200.000000</td>\n",
              "      <td>24.000000</td>\n",
              "      <td>30.000000</td>\n",
              "      <td>10295.000000</td>\n",
              "    </tr>\n",
              "    <tr>\n",
              "      <th>75%</th>\n",
              "      <td>154.000000</td>\n",
              "      <td>2.000000</td>\n",
              "      <td>102.400000</td>\n",
              "      <td>183.100000</td>\n",
              "      <td>66.900000</td>\n",
              "      <td>55.500000</td>\n",
              "      <td>2935.000000</td>\n",
              "      <td>141.000000</td>\n",
              "      <td>3.580000</td>\n",
              "      <td>3.410000</td>\n",
              "      <td>9.400000</td>\n",
              "      <td>116.000000</td>\n",
              "      <td>5500.000000</td>\n",
              "      <td>30.000000</td>\n",
              "      <td>34.000000</td>\n",
              "      <td>16503.000000</td>\n",
              "    </tr>\n",
              "    <tr>\n",
              "      <th>max</th>\n",
              "      <td>205.000000</td>\n",
              "      <td>3.000000</td>\n",
              "      <td>120.900000</td>\n",
              "      <td>208.100000</td>\n",
              "      <td>72.300000</td>\n",
              "      <td>59.800000</td>\n",
              "      <td>4066.000000</td>\n",
              "      <td>326.000000</td>\n",
              "      <td>3.940000</td>\n",
              "      <td>4.170000</td>\n",
              "      <td>23.000000</td>\n",
              "      <td>288.000000</td>\n",
              "      <td>6600.000000</td>\n",
              "      <td>49.000000</td>\n",
              "      <td>54.000000</td>\n",
              "      <td>45400.000000</td>\n",
              "    </tr>\n",
              "  </tbody>\n",
              "</table>\n",
              "</div>"
            ],
            "text/plain": [
              "           car_ID   symboling   wheelbase  ...     citympg  highwaympg         price\n",
              "count  205.000000  205.000000  205.000000  ...  205.000000  205.000000    205.000000\n",
              "mean   103.000000    0.834146   98.756585  ...   25.219512   30.751220  13276.710571\n",
              "std     59.322565    1.245307    6.021776  ...    6.542142    6.886443   7988.852332\n",
              "min      1.000000   -2.000000   86.600000  ...   13.000000   16.000000   5118.000000\n",
              "25%     52.000000    0.000000   94.500000  ...   19.000000   25.000000   7788.000000\n",
              "50%    103.000000    1.000000   97.000000  ...   24.000000   30.000000  10295.000000\n",
              "75%    154.000000    2.000000  102.400000  ...   30.000000   34.000000  16503.000000\n",
              "max    205.000000    3.000000  120.900000  ...   49.000000   54.000000  45400.000000\n",
              "\n",
              "[8 rows x 16 columns]"
            ]
          },
          "metadata": {
            "tags": []
          },
          "execution_count": 8
        }
      ]
    },
    {
      "cell_type": "code",
      "metadata": {
        "id": "Gfbzc1Pa1kqs",
        "colab": {
          "base_uri": "https://localhost:8080/"
        },
        "outputId": "aa5308e3-9950-4172-948b-b1a545ff1ef7"
      },
      "source": [
        "# check all dataframe information by using info\n",
        "df.info()"
      ],
      "execution_count": 9,
      "outputs": [
        {
          "output_type": "stream",
          "text": [
            "<class 'pandas.core.frame.DataFrame'>\n",
            "RangeIndex: 205 entries, 0 to 204\n",
            "Data columns (total 26 columns):\n",
            " #   Column            Non-Null Count  Dtype  \n",
            "---  ------            --------------  -----  \n",
            " 0   car_ID            205 non-null    int64  \n",
            " 1   symboling         205 non-null    int64  \n",
            " 2   CarName           205 non-null    object \n",
            " 3   fueltype          205 non-null    object \n",
            " 4   aspiration        205 non-null    object \n",
            " 5   doornumber        205 non-null    object \n",
            " 6   carbody           205 non-null    object \n",
            " 7   drivewheel        205 non-null    object \n",
            " 8   enginelocation    205 non-null    object \n",
            " 9   wheelbase         205 non-null    float64\n",
            " 10  carlength         205 non-null    float64\n",
            " 11  carwidth          205 non-null    float64\n",
            " 12  carheight         205 non-null    float64\n",
            " 13  curbweight        205 non-null    int64  \n",
            " 14  enginetype        205 non-null    object \n",
            " 15  cylindernumber    205 non-null    object \n",
            " 16  enginesize        205 non-null    int64  \n",
            " 17  fuelsystem        205 non-null    object \n",
            " 18  boreratio         205 non-null    float64\n",
            " 19  stroke            205 non-null    float64\n",
            " 20  compressionratio  205 non-null    float64\n",
            " 21  horsepower        205 non-null    int64  \n",
            " 22  peakrpm           205 non-null    int64  \n",
            " 23  citympg           205 non-null    int64  \n",
            " 24  highwaympg        205 non-null    int64  \n",
            " 25  price             205 non-null    float64\n",
            "dtypes: float64(8), int64(8), object(10)\n",
            "memory usage: 41.8+ KB\n"
          ],
          "name": "stdout"
        }
      ]
    },
    {
      "cell_type": "code",
      "metadata": {
        "id": "NlMuMo5B3Hgm",
        "colab": {
          "base_uri": "https://localhost:8080/"
        },
        "outputId": "d29c8223-9f24-4de4-cce4-126df2cc886c"
      },
      "source": [
        "# check any duplicated values in data frame\n",
        "df.duplicated().any()"
      ],
      "execution_count": 10,
      "outputs": [
        {
          "output_type": "execute_result",
          "data": {
            "text/plain": [
              "False"
            ]
          },
          "metadata": {
            "tags": []
          },
          "execution_count": 10
        }
      ]
    },
    {
      "cell_type": "code",
      "metadata": {
        "id": "Q1mh6UfdCqoz"
      },
      "source": [
        "# dataframe spliting into input(X) & output(y)\n",
        "X=df.iloc[:,:-1]\n",
        "y=df.iloc[:,-1]\n"
      ],
      "execution_count": 11,
      "outputs": []
    },
    {
      "cell_type": "code",
      "metadata": {
        "id": "3OZ3H6BTVHOr"
      },
      "source": [
        "# Drop all non_numeric features\n",
        "X.drop(X.select_dtypes(include='object'),axis=1,inplace=True)"
      ],
      "execution_count": 12,
      "outputs": []
    },
    {
      "cell_type": "code",
      "metadata": {
        "id": "MzUTdKgUwV3t",
        "colab": {
          "base_uri": "https://localhost:8080/"
        },
        "outputId": "d888e31b-7df7-453c-f6bc-5dcb8e89137c"
      },
      "source": [
        "# check duplicated values\n",
        "X.duplicated().any()"
      ],
      "execution_count": 13,
      "outputs": [
        {
          "output_type": "execute_result",
          "data": {
            "text/plain": [
              "False"
            ]
          },
          "metadata": {
            "tags": []
          },
          "execution_count": 13
        }
      ]
    },
    {
      "cell_type": "code",
      "metadata": {
        "id": "demtKuus0kys",
        "colab": {
          "base_uri": "https://localhost:8080/"
        },
        "outputId": "d48f1514-cc78-4a93-8ac3-774f57f8aab2"
      },
      "source": [
        "# check the shape of input (X) and ouputs(Y)\n",
        "print(f\"Shape of input ==> X :{X.shape}\\nShape of output ==> Y :{y.shape} \")"
      ],
      "execution_count": 14,
      "outputs": [
        {
          "output_type": "stream",
          "text": [
            "Shape of input ==> X :(205, 15)\n",
            "Shape of output ==> Y :(205,) \n"
          ],
          "name": "stdout"
        }
      ]
    },
    {
      "cell_type": "markdown",
      "metadata": {
        "id": "J7waFHeoMj5e"
      },
      "source": [
        "***Data spliting into train and testing***"
      ]
    },
    {
      "cell_type": "code",
      "metadata": {
        "id": "pIe-zkdE3qs6"
      },
      "source": [
        "# spliting data into training data (X_train) as  training labels (y_train)\n",
        "X_train=X.sample(frac=0.7, random_state=1,axis=0)\n",
        "y_train=y.sample(frac=0.7, random_state=1,axis=0)"
      ],
      "execution_count": 15,
      "outputs": []
    },
    {
      "cell_type": "code",
      "metadata": {
        "id": "ls4tWALd6Pzz"
      },
      "source": [
        "# spliting data into training data (X_test) as  training labels (y_test)\n",
        "X_test=X.sample(frac=0.3, replace=True, random_state=1,axis=0)\n",
        "y_test=y.sample(frac=0.3, replace=True, random_state=1,axis=0)"
      ],
      "execution_count": 16,
      "outputs": []
    },
    {
      "cell_type": "code",
      "metadata": {
        "id": "SCDVPUsm4ZaE",
        "colab": {
          "base_uri": "https://localhost:8080/"
        },
        "outputId": "42dfa22f-db53-4076-d2f9-7f16120dd1e2"
      },
      "source": [
        "# Check the shape of training data,testing data,training labels,testing labels\n",
        "print(f\"shape of training data is :{X_train.shape}\\nshape of training label is :{y_train.shape}\\nshape of testing data is :{X_test.shape}\\nshape of testing label is :{y_test.shape}\")"
      ],
      "execution_count": 17,
      "outputs": [
        {
          "output_type": "stream",
          "text": [
            "shape of training data is :(144, 15)\n",
            "shape of training label is :(144,)\n",
            "shape of testing data is :(62, 15)\n",
            "shape of testing label is :(62,)\n"
          ],
          "name": "stdout"
        }
      ]
    },
    {
      "cell_type": "markdown",
      "metadata": {
        "id": "Cy6khG3YMvfh"
      },
      "source": [
        "***Data preparing for model (normalizing,changeing datatype,datatype convert into array)***"
      ]
    },
    {
      "cell_type": "code",
      "metadata": {
        "id": "tZHITtDV2RrM"
      },
      "source": [
        "#convert training and testing data into numpy array and also change datatypes into Float\n",
        "X_train=np.asarray(X_train).astype(\"float32\")\n",
        "X_test=np.asarray(X_test).astype(\"float32\")"
      ],
      "execution_count": 18,
      "outputs": []
    },
    {
      "cell_type": "code",
      "metadata": {
        "id": "6kW2_oHrSi-F"
      },
      "source": [
        "#Data normalization \n",
        "mean = X_train.mean(axis=0)\n",
        "X_train-= mean\n",
        "std = X_train.std(axis=0)\n",
        "X_train/= std\n",
        "X_test-= mean\n",
        "X_test/= std"
      ],
      "execution_count": 19,
      "outputs": []
    },
    {
      "cell_type": "code",
      "metadata": {
        "id": "fdeIgaOLX9GO"
      },
      "source": [
        "# labels \n",
        "y_mean = y_train.mean(axis=0)\n",
        "y_train-= y_mean\n",
        "y_std = y_train.std(axis=0)\n",
        "y_train/= y_std\n",
        "y_test-= y_mean\n",
        "y_test/= y_std"
      ],
      "execution_count": 20,
      "outputs": []
    },
    {
      "cell_type": "code",
      "metadata": {
        "id": "DDddSyUv8k4F"
      },
      "source": [
        "# validation Data split from training Data\n",
        "val_x=X_train[:50]\n",
        "partial_x_train=X_train[50:]\n",
        "val_y=y_train[:50]\n",
        "partial_y_train=y_train[50:]"
      ],
      "execution_count": 21,
      "outputs": []
    },
    {
      "cell_type": "code",
      "metadata": {
        "id": "3knFXQlZK3ug"
      },
      "source": [
        "# importing all libariries\n",
        "import tensorflow as tf\n",
        "from keras import models,layers,optimizers,losses\n"
      ],
      "execution_count": 22,
      "outputs": []
    },
    {
      "cell_type": "markdown",
      "metadata": {
        "id": "sSOZzKoLNZfD"
      },
      "source": [
        "**Model building and all operation regarding model weights adjustment i.e dropout**"
      ]
    },
    {
      "cell_type": "code",
      "metadata": {
        "id": "tzNVnHUf3ffq"
      },
      "source": [
        "# model buildup\n",
        "network=models.Sequential()\n",
        "network.add(layers.Dense(10,activation=\"relu\" ,input_shape=(X_train.shape[1],)))\n",
        "network.add(layers.Dropout(0.2))\n",
        "network.add(layers.Dense(8,activation=\"relu\"))\n",
        "#network.add(layers.Dropout(0.2))\n",
        "network.add(layers.Dense(6,activation=\"relu\"))\n",
        "network.add(layers.Dense(1))"
      ],
      "execution_count": 23,
      "outputs": []
    },
    {
      "cell_type": "code",
      "metadata": {
        "id": "v_nWZA0N6dvU"
      },
      "source": [
        "# model compliling\n",
        "network.compile(optimizer=\"rmsprop\",loss=\"mse\",metrics=[\"mae\"])"
      ],
      "execution_count": 24,
      "outputs": []
    },
    {
      "cell_type": "code",
      "metadata": {
        "id": "KuqIjhIy6bGC",
        "colab": {
          "base_uri": "https://localhost:8080/"
        },
        "outputId": "f3c9675d-b4d1-4d73-cb1e-f90a6cbafc2f"
      },
      "source": [
        "# check summaryof models\n",
        "network.summary()"
      ],
      "execution_count": 25,
      "outputs": [
        {
          "output_type": "stream",
          "text": [
            "Model: \"sequential\"\n",
            "_________________________________________________________________\n",
            "Layer (type)                 Output Shape              Param #   \n",
            "=================================================================\n",
            "dense (Dense)                (None, 10)                160       \n",
            "_________________________________________________________________\n",
            "dropout (Dropout)            (None, 10)                0         \n",
            "_________________________________________________________________\n",
            "dense_1 (Dense)              (None, 8)                 88        \n",
            "_________________________________________________________________\n",
            "dense_2 (Dense)              (None, 6)                 54        \n",
            "_________________________________________________________________\n",
            "dense_3 (Dense)              (None, 1)                 7         \n",
            "=================================================================\n",
            "Total params: 309\n",
            "Trainable params: 309\n",
            "Non-trainable params: 0\n",
            "_________________________________________________________________\n"
          ],
          "name": "stdout"
        }
      ]
    },
    {
      "cell_type": "code",
      "metadata": {
        "id": "QliTGCi94XDc",
        "colab": {
          "base_uri": "https://localhost:8080/"
        },
        "outputId": "ce6deb09-1b69-4bbc-f299-240528815171"
      },
      "source": [
        "# model training on training data & validation data\n",
        "history=network.fit(partial_x_train, partial_y_train,epochs=90, batch_size=1, verbose=1,validation_data=(val_x,val_y))"
      ],
      "execution_count": 26,
      "outputs": [
        {
          "output_type": "stream",
          "text": [
            "Epoch 1/90\n",
            "94/94 [==============================] - 1s 7ms/step - loss: 1.3182 - mae: 0.8193 - val_loss: 0.9691 - val_mae: 0.6390\n",
            "Epoch 2/90\n",
            "94/94 [==============================] - 0s 2ms/step - loss: 0.8753 - mae: 0.6937 - val_loss: 0.8698 - val_mae: 0.5983\n",
            "Epoch 3/90\n",
            "94/94 [==============================] - 0s 2ms/step - loss: 0.5525 - mae: 0.5283 - val_loss: 0.8253 - val_mae: 0.5758\n",
            "Epoch 4/90\n",
            "94/94 [==============================] - 0s 2ms/step - loss: 0.6813 - mae: 0.5830 - val_loss: 0.7801 - val_mae: 0.5509\n",
            "Epoch 5/90\n",
            "94/94 [==============================] - 0s 2ms/step - loss: 1.0681 - mae: 0.6567 - val_loss: 0.7335 - val_mae: 0.5347\n",
            "Epoch 6/90\n",
            "94/94 [==============================] - 0s 2ms/step - loss: 0.5994 - mae: 0.5141 - val_loss: 0.6824 - val_mae: 0.5192\n",
            "Epoch 7/90\n",
            "94/94 [==============================] - 0s 2ms/step - loss: 0.5659 - mae: 0.5213 - val_loss: 0.6331 - val_mae: 0.5073\n",
            "Epoch 8/90\n",
            "94/94 [==============================] - 0s 2ms/step - loss: 0.4178 - mae: 0.4639 - val_loss: 0.5681 - val_mae: 0.4796\n",
            "Epoch 9/90\n",
            "94/94 [==============================] - 0s 2ms/step - loss: 0.7729 - mae: 0.4981 - val_loss: 0.5128 - val_mae: 0.4480\n",
            "Epoch 10/90\n",
            "94/94 [==============================] - 0s 2ms/step - loss: 0.5640 - mae: 0.4348 - val_loss: 0.4499 - val_mae: 0.4260\n",
            "Epoch 11/90\n",
            "94/94 [==============================] - 0s 2ms/step - loss: 0.4373 - mae: 0.4330 - val_loss: 0.4160 - val_mae: 0.4045\n",
            "Epoch 12/90\n",
            "94/94 [==============================] - 0s 2ms/step - loss: 0.2473 - mae: 0.3440 - val_loss: 0.3751 - val_mae: 0.3989\n",
            "Epoch 13/90\n",
            "94/94 [==============================] - 0s 2ms/step - loss: 0.3416 - mae: 0.4386 - val_loss: 0.3295 - val_mae: 0.3565\n",
            "Epoch 14/90\n",
            "94/94 [==============================] - 0s 2ms/step - loss: 0.3118 - mae: 0.3684 - val_loss: 0.2667 - val_mae: 0.3307\n",
            "Epoch 15/90\n",
            "94/94 [==============================] - 0s 2ms/step - loss: 0.5127 - mae: 0.4367 - val_loss: 0.2356 - val_mae: 0.3192\n",
            "Epoch 16/90\n",
            "94/94 [==============================] - 0s 2ms/step - loss: 0.2612 - mae: 0.3590 - val_loss: 0.2146 - val_mae: 0.3004\n",
            "Epoch 17/90\n",
            "94/94 [==============================] - 0s 2ms/step - loss: 0.1769 - mae: 0.3097 - val_loss: 0.1959 - val_mae: 0.2856\n",
            "Epoch 18/90\n",
            "94/94 [==============================] - 0s 2ms/step - loss: 0.2375 - mae: 0.3734 - val_loss: 0.1826 - val_mae: 0.2897\n",
            "Epoch 19/90\n",
            "94/94 [==============================] - 0s 2ms/step - loss: 0.2300 - mae: 0.3737 - val_loss: 0.1658 - val_mae: 0.2538\n",
            "Epoch 20/90\n",
            "94/94 [==============================] - 0s 2ms/step - loss: 0.1643 - mae: 0.2772 - val_loss: 0.1707 - val_mae: 0.2879\n",
            "Epoch 21/90\n",
            "94/94 [==============================] - 0s 2ms/step - loss: 0.3101 - mae: 0.3472 - val_loss: 0.1765 - val_mae: 0.2888\n",
            "Epoch 22/90\n",
            "94/94 [==============================] - 0s 2ms/step - loss: 0.1406 - mae: 0.2539 - val_loss: 0.1721 - val_mae: 0.2809\n",
            "Epoch 23/90\n",
            "94/94 [==============================] - 0s 2ms/step - loss: 0.1510 - mae: 0.2742 - val_loss: 0.1614 - val_mae: 0.2606\n",
            "Epoch 24/90\n",
            "94/94 [==============================] - 0s 2ms/step - loss: 0.2237 - mae: 0.2828 - val_loss: 0.1517 - val_mae: 0.2592\n",
            "Epoch 25/90\n",
            "94/94 [==============================] - 0s 2ms/step - loss: 0.1828 - mae: 0.3073 - val_loss: 0.1490 - val_mae: 0.2516\n",
            "Epoch 26/90\n",
            "94/94 [==============================] - 0s 2ms/step - loss: 0.1576 - mae: 0.2665 - val_loss: 0.1391 - val_mae: 0.2358\n",
            "Epoch 27/90\n",
            "94/94 [==============================] - 0s 2ms/step - loss: 0.3816 - mae: 0.3561 - val_loss: 0.1436 - val_mae: 0.2410\n",
            "Epoch 28/90\n",
            "94/94 [==============================] - 0s 2ms/step - loss: 0.1401 - mae: 0.2645 - val_loss: 0.1372 - val_mae: 0.2398\n",
            "Epoch 29/90\n",
            "94/94 [==============================] - 0s 2ms/step - loss: 0.1337 - mae: 0.2502 - val_loss: 0.1413 - val_mae: 0.2308\n",
            "Epoch 30/90\n",
            "94/94 [==============================] - 0s 2ms/step - loss: 0.1027 - mae: 0.2151 - val_loss: 0.1419 - val_mae: 0.2570\n",
            "Epoch 31/90\n",
            "94/94 [==============================] - 0s 2ms/step - loss: 0.1152 - mae: 0.2371 - val_loss: 0.1495 - val_mae: 0.2750\n",
            "Epoch 32/90\n",
            "94/94 [==============================] - 0s 2ms/step - loss: 0.2210 - mae: 0.3388 - val_loss: 0.1450 - val_mae: 0.2482\n",
            "Epoch 33/90\n",
            "94/94 [==============================] - 0s 2ms/step - loss: 0.5466 - mae: 0.4350 - val_loss: 0.1454 - val_mae: 0.2410\n",
            "Epoch 34/90\n",
            "94/94 [==============================] - 0s 2ms/step - loss: 0.2719 - mae: 0.2942 - val_loss: 0.1490 - val_mae: 0.2578\n",
            "Epoch 35/90\n",
            "94/94 [==============================] - 0s 2ms/step - loss: 0.1449 - mae: 0.2611 - val_loss: 0.1482 - val_mae: 0.2728\n",
            "Epoch 36/90\n",
            "94/94 [==============================] - 0s 2ms/step - loss: 0.1670 - mae: 0.2627 - val_loss: 0.1354 - val_mae: 0.2395\n",
            "Epoch 37/90\n",
            "94/94 [==============================] - 0s 2ms/step - loss: 0.4443 - mae: 0.3312 - val_loss: 0.1458 - val_mae: 0.2673\n",
            "Epoch 38/90\n",
            "94/94 [==============================] - 0s 2ms/step - loss: 0.1372 - mae: 0.2422 - val_loss: 0.1424 - val_mae: 0.2507\n",
            "Epoch 39/90\n",
            "94/94 [==============================] - 0s 2ms/step - loss: 0.1013 - mae: 0.2229 - val_loss: 0.1368 - val_mae: 0.2502\n",
            "Epoch 40/90\n",
            "94/94 [==============================] - 0s 2ms/step - loss: 0.1559 - mae: 0.2431 - val_loss: 0.1526 - val_mae: 0.2649\n",
            "Epoch 41/90\n",
            "94/94 [==============================] - 0s 2ms/step - loss: 0.1602 - mae: 0.2674 - val_loss: 0.1444 - val_mae: 0.2369\n",
            "Epoch 42/90\n",
            "94/94 [==============================] - 0s 2ms/step - loss: 0.2528 - mae: 0.2807 - val_loss: 0.1434 - val_mae: 0.2504\n",
            "Epoch 43/90\n",
            "94/94 [==============================] - 0s 2ms/step - loss: 0.1601 - mae: 0.2446 - val_loss: 0.1343 - val_mae: 0.2389\n",
            "Epoch 44/90\n",
            "94/94 [==============================] - 0s 2ms/step - loss: 0.1473 - mae: 0.2867 - val_loss: 0.1401 - val_mae: 0.2435\n",
            "Epoch 45/90\n",
            "94/94 [==============================] - 0s 2ms/step - loss: 0.1319 - mae: 0.2316 - val_loss: 0.1316 - val_mae: 0.2479\n",
            "Epoch 46/90\n",
            "94/94 [==============================] - 0s 2ms/step - loss: 0.1231 - mae: 0.2212 - val_loss: 0.1287 - val_mae: 0.2381\n",
            "Epoch 47/90\n",
            "94/94 [==============================] - 0s 2ms/step - loss: 0.3940 - mae: 0.3611 - val_loss: 0.1361 - val_mae: 0.2538\n",
            "Epoch 48/90\n",
            "94/94 [==============================] - 0s 2ms/step - loss: 0.3660 - mae: 0.3309 - val_loss: 0.1387 - val_mae: 0.2591\n",
            "Epoch 49/90\n",
            "94/94 [==============================] - 0s 2ms/step - loss: 0.1094 - mae: 0.2146 - val_loss: 0.1325 - val_mae: 0.2462\n",
            "Epoch 50/90\n",
            "94/94 [==============================] - 0s 2ms/step - loss: 0.0995 - mae: 0.2103 - val_loss: 0.1368 - val_mae: 0.2516\n",
            "Epoch 51/90\n",
            "94/94 [==============================] - 0s 2ms/step - loss: 0.1782 - mae: 0.2769 - val_loss: 0.1311 - val_mae: 0.2547\n",
            "Epoch 52/90\n",
            "94/94 [==============================] - 0s 2ms/step - loss: 0.1575 - mae: 0.2583 - val_loss: 0.1315 - val_mae: 0.2526\n",
            "Epoch 53/90\n",
            "94/94 [==============================] - 0s 2ms/step - loss: 0.2582 - mae: 0.2512 - val_loss: 0.1365 - val_mae: 0.2506\n",
            "Epoch 54/90\n",
            "94/94 [==============================] - 0s 2ms/step - loss: 0.0857 - mae: 0.1994 - val_loss: 0.1390 - val_mae: 0.2696\n",
            "Epoch 55/90\n",
            "94/94 [==============================] - 0s 2ms/step - loss: 0.1254 - mae: 0.2342 - val_loss: 0.1274 - val_mae: 0.2391\n",
            "Epoch 56/90\n",
            "94/94 [==============================] - 0s 2ms/step - loss: 0.0824 - mae: 0.2021 - val_loss: 0.1279 - val_mae: 0.2520\n",
            "Epoch 57/90\n",
            "94/94 [==============================] - 0s 2ms/step - loss: 0.1385 - mae: 0.2421 - val_loss: 0.1323 - val_mae: 0.2625\n",
            "Epoch 58/90\n",
            "94/94 [==============================] - 0s 2ms/step - loss: 0.1564 - mae: 0.2081 - val_loss: 0.1343 - val_mae: 0.2555\n",
            "Epoch 59/90\n",
            "94/94 [==============================] - 0s 2ms/step - loss: 0.1864 - mae: 0.2397 - val_loss: 0.1335 - val_mae: 0.2493\n",
            "Epoch 60/90\n",
            "94/94 [==============================] - 0s 2ms/step - loss: 0.1699 - mae: 0.2179 - val_loss: 0.1279 - val_mae: 0.2385\n",
            "Epoch 61/90\n",
            "94/94 [==============================] - 0s 2ms/step - loss: 0.1223 - mae: 0.2236 - val_loss: 0.1337 - val_mae: 0.2367\n",
            "Epoch 62/90\n",
            "94/94 [==============================] - 0s 2ms/step - loss: 0.1371 - mae: 0.2351 - val_loss: 0.1398 - val_mae: 0.2505\n",
            "Epoch 63/90\n",
            "94/94 [==============================] - 0s 2ms/step - loss: 0.1871 - mae: 0.2774 - val_loss: 0.1306 - val_mae: 0.2291\n",
            "Epoch 64/90\n",
            "94/94 [==============================] - 0s 2ms/step - loss: 0.2187 - mae: 0.2814 - val_loss: 0.1351 - val_mae: 0.2339\n",
            "Epoch 65/90\n",
            "94/94 [==============================] - 0s 2ms/step - loss: 0.1315 - mae: 0.2292 - val_loss: 0.1362 - val_mae: 0.2469\n",
            "Epoch 66/90\n",
            "94/94 [==============================] - 0s 2ms/step - loss: 0.0956 - mae: 0.1896 - val_loss: 0.1341 - val_mae: 0.2546\n",
            "Epoch 67/90\n",
            "94/94 [==============================] - 0s 2ms/step - loss: 0.1483 - mae: 0.2416 - val_loss: 0.1339 - val_mae: 0.2621\n",
            "Epoch 68/90\n",
            "94/94 [==============================] - 0s 2ms/step - loss: 0.1411 - mae: 0.2513 - val_loss: 0.1324 - val_mae: 0.2406\n",
            "Epoch 69/90\n",
            "94/94 [==============================] - 0s 2ms/step - loss: 0.1736 - mae: 0.2451 - val_loss: 0.1288 - val_mae: 0.2445\n",
            "Epoch 70/90\n",
            "94/94 [==============================] - 0s 2ms/step - loss: 0.1132 - mae: 0.2253 - val_loss: 0.1264 - val_mae: 0.2299\n",
            "Epoch 71/90\n",
            "94/94 [==============================] - 0s 2ms/step - loss: 0.0837 - mae: 0.1852 - val_loss: 0.1398 - val_mae: 0.2714\n",
            "Epoch 72/90\n",
            "94/94 [==============================] - 0s 2ms/step - loss: 0.0655 - mae: 0.1826 - val_loss: 0.1250 - val_mae: 0.2356\n",
            "Epoch 73/90\n",
            "94/94 [==============================] - 0s 2ms/step - loss: 0.2533 - mae: 0.2905 - val_loss: 0.1278 - val_mae: 0.2299\n",
            "Epoch 74/90\n",
            "94/94 [==============================] - 0s 2ms/step - loss: 0.1168 - mae: 0.2240 - val_loss: 0.1250 - val_mae: 0.2412\n",
            "Epoch 75/90\n",
            "94/94 [==============================] - 0s 2ms/step - loss: 0.1458 - mae: 0.2445 - val_loss: 0.1291 - val_mae: 0.2508\n",
            "Epoch 76/90\n",
            "94/94 [==============================] - 0s 2ms/step - loss: 0.1126 - mae: 0.2120 - val_loss: 0.1248 - val_mae: 0.2405\n",
            "Epoch 77/90\n",
            "94/94 [==============================] - 0s 2ms/step - loss: 0.1610 - mae: 0.2485 - val_loss: 0.1326 - val_mae: 0.2545\n",
            "Epoch 78/90\n",
            "94/94 [==============================] - 0s 2ms/step - loss: 0.1105 - mae: 0.2329 - val_loss: 0.1263 - val_mae: 0.2466\n",
            "Epoch 79/90\n",
            "94/94 [==============================] - 0s 2ms/step - loss: 0.1086 - mae: 0.1997 - val_loss: 0.1253 - val_mae: 0.2372\n",
            "Epoch 80/90\n",
            "94/94 [==============================] - 0s 2ms/step - loss: 0.0712 - mae: 0.1921 - val_loss: 0.1236 - val_mae: 0.2278\n",
            "Epoch 81/90\n",
            "94/94 [==============================] - 0s 2ms/step - loss: 0.1921 - mae: 0.2573 - val_loss: 0.1244 - val_mae: 0.2394\n",
            "Epoch 82/90\n",
            "94/94 [==============================] - 0s 2ms/step - loss: 0.0790 - mae: 0.2029 - val_loss: 0.1196 - val_mae: 0.2318\n",
            "Epoch 83/90\n",
            "94/94 [==============================] - 0s 2ms/step - loss: 0.2877 - mae: 0.2323 - val_loss: 0.1243 - val_mae: 0.2480\n",
            "Epoch 84/90\n",
            "94/94 [==============================] - 0s 2ms/step - loss: 0.1758 - mae: 0.2877 - val_loss: 0.1178 - val_mae: 0.2350\n",
            "Epoch 85/90\n",
            "94/94 [==============================] - 0s 2ms/step - loss: 0.1848 - mae: 0.2714 - val_loss: 0.1195 - val_mae: 0.2380\n",
            "Epoch 86/90\n",
            "94/94 [==============================] - 0s 2ms/step - loss: 0.0928 - mae: 0.2095 - val_loss: 0.1178 - val_mae: 0.2304\n",
            "Epoch 87/90\n",
            "94/94 [==============================] - 0s 2ms/step - loss: 0.1918 - mae: 0.2484 - val_loss: 0.1229 - val_mae: 0.2429\n",
            "Epoch 88/90\n",
            "94/94 [==============================] - 0s 2ms/step - loss: 0.0987 - mae: 0.2133 - val_loss: 0.1282 - val_mae: 0.2479\n",
            "Epoch 89/90\n",
            "94/94 [==============================] - 0s 2ms/step - loss: 0.0993 - mae: 0.2180 - val_loss: 0.1225 - val_mae: 0.2326\n",
            "Epoch 90/90\n",
            "94/94 [==============================] - 0s 2ms/step - loss: 0.1095 - mae: 0.2351 - val_loss: 0.1241 - val_mae: 0.2469\n"
          ],
          "name": "stdout"
        }
      ]
    },
    {
      "cell_type": "code",
      "metadata": {
        "id": "hzImMFI2PBVD",
        "colab": {
          "base_uri": "https://localhost:8080/",
          "height": 295
        },
        "outputId": "d3080dfe-211c-45f4-bdd1-de043fe76f38"
      },
      "source": [
        "# graph of training and validation loss\n",
        "loss = history.history['loss']\n",
        "val_loss = history.history['val_loss']\n",
        "epochs = range(1, len(loss) + 1)\n",
        "plt.plot(epochs, loss,\"go\",label='Training loss')\n",
        "plt.plot(epochs, val_loss, 'r', label='Validation loss')\n",
        "plt.title('Training and validation loss')\n",
        "plt.xlabel('Epochs')\n",
        "plt.ylabel('Loss')\n",
        "plt.legend()\n",
        "plt.grid()\n",
        "plt.show()"
      ],
      "execution_count": 27,
      "outputs": [
        {
          "output_type": "display_data",
          "data": {
            "image/png": "[encoded data removed]",
            "text/plain": [
              "<Figure size 432x288 with 1 Axes>"
            ]
          },
          "metadata": {
            "tags": [],
            "needs_background": "light"
          }
        }
      ]
    },
    {
      "cell_type": "code",
      "metadata": {
        "id": "wgYqTsNt5Fme",
        "colab": {
          "base_uri": "https://localhost:8080/"
        },
        "outputId": "821b1478-0d71-45ef-f824-15ee8592da8f"
      },
      "source": [
        "# model evaluation\n",
        "network.evaluate(X_test,y_test)"
      ],
      "execution_count": 28,
      "outputs": [
        {
          "output_type": "stream",
          "text": [
            "2/2 [==============================] - 0s 5ms/step - loss: 0.1558 - mae: 0.2791\n"
          ],
          "name": "stdout"
        },
        {
          "output_type": "execute_result",
          "data": {
            "text/plain": [
              "[0.1558099240064621, 0.2790699303150177]"
            ]
          },
          "metadata": {
            "tags": []
          },
          "execution_count": 28
        }
      ]
    },
    {
      "cell_type": "code",
      "metadata": {
        "id": "GDSGr6yI8UVr",
        "colab": {
          "base_uri": "https://localhost:8080/"
        },
        "outputId": "f33eafbb-c6ea-44c5-ce9b-37338e2e2dad"
      },
      "source": [
        "#model predictions \n",
        "#result=network.predict(X_test)\n",
        "result_1=network.predict(X_test)\n",
        "result_1[4]"
      ],
      "execution_count": 29,
      "outputs": [
        {
          "output_type": "execute_result",
          "data": {
            "text/plain": [
              "array([0.78802276], dtype=float32)"
            ]
          },
          "metadata": {
            "tags": []
          },
          "execution_count": 29
        }
      ]
    },
    {
      "cell_type": "code",
      "metadata": {
        "id": "XQBU2Sez8WWR",
        "colab": {
          "base_uri": "https://localhost:8080/",
          "height": 295
        },
        "outputId": "3aa4650a-fc4d-4bcb-d5f0-3e28a1576b06"
      },
      "source": [
        "#graph of actual values and predicted values\n",
        "y=result_1\n",
        "y1=range(62)\n",
        "x=y_test\n",
        "plt.scatter(x, y1, label= \"Actual price\", color= \"red\", marker= \"*\", s=100)\n",
        "plt.scatter(y, y1, label= \"Predicted Price\", color= \"blue\", marker= \"+\", s=100)\n",
        "plt.xlabel('Price')\n",
        "plt.ylabel('Rows')\n",
        "plt.title('Actual price vs predicted price!')\n",
        "plt.legend()\n",
        "plt.grid()\n",
        "plt.show()"
      ],
      "execution_count": 30,
      "outputs": [
        {
          "output_type": "display_data",
          "data": {
            "image/png": "[encoded data removed]",
            "text/plain": [
              "<Figure size 432x288 with 1 Axes>"
            ]
          },
          "metadata": {
            "tags": [],
            "needs_background": "light"
          }
        }
      ]
    },
    {
      "cell_type": "code",
      "metadata": {
        "id": "Y4-Xbp5F13jO"
      },
      "source": [
        ""
      ],
      "execution_count": 30,
      "outputs": []
    }
  ]
}